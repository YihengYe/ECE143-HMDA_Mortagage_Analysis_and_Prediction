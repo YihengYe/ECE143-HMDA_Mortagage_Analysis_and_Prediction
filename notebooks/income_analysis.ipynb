{
 "cells": [
  {
   "cell_type": "code",
   "execution_count": 17,
   "id": "3fac8d05",
   "metadata": {},
   "outputs": [],
   "source": [
    "import pandas as pd\n",
    "import os\n",
    "from pathlib import Path\n",
    "import matplotlib.pyplot as plt\n",
    "import json\n",
    "import numpy as np\n",
    "import pyodbc\n",
    "import matplotlib as mpl\n",
    "mpl.rcParams['agg.path.chunksize'] = 10000\n",
    "\n"
   ]
  },
  {
   "cell_type": "code",
   "execution_count": 9,
   "id": "bb9e8854",
   "metadata": {},
   "outputs": [],
   "source": [
    "path=Path()\n",
    "parent_path=str(path.parent.absolute())[:-10]"
   ]
  },
  {
   "cell_type": "code",
   "execution_count": 11,
   "id": "9c21723c",
   "metadata": {},
   "outputs": [
    {
     "name": "stdout",
     "output_type": "stream",
     "text": [
      "Index(['as_of_year', 'respondent_id', 'agency_abbr', 'agency_code',\n",
      "       'loan_type', 'property_type', 'loan_purpose', 'owner_occupancy',\n",
      "       'loan_amount_000s', 'preapproval', 'action_taken', 'msamd',\n",
      "       'state_abbr', 'state_code', 'county_code', 'census_tract_number',\n",
      "       'applicant_ethnicity', 'co_applicant_ethnicity', 'applicant_race_1',\n",
      "       'applicant_race_2', 'applicant_race_3', 'applicant_race_4',\n",
      "       'applicant_race_5', 'co_applicant_race_1', 'co_applicant_race_2',\n",
      "       'co_applicant_race_3', 'co_applicant_race_4', 'co_applicant_race_5',\n",
      "       'applicant_sex', 'co_applicant_sex', 'applicant_income_000s',\n",
      "       'purchaser_type', 'denial_reason_1', 'denial_reason_2',\n",
      "       'denial_reason_3', 'rate_spread', 'hoepa_status', 'lien_status',\n",
      "       'edit_status', 'sequence_number', 'population', 'minority_population',\n",
      "       'hud_median_family_income', 'tract_to_msamd_income',\n",
      "       'number_of_owner_occupied_units', 'number_of_1_to_4_family_units',\n",
      "       'application_date_indicator'],\n",
      "      dtype='object')\n"
     ]
    }
   ],
   "source": [
    "data = pd.read_csv(parent_path+\"/data/csvs/hmda_2017_ca_noname.csv\")\n",
    "print(data.columns)\n",
    "#print(data['action_taken'])"
   ]
  },
  {
   "cell_type": "code",
   "execution_count": 13,
   "id": "f24bc9c4",
   "metadata": {},
   "outputs": [],
   "source": [
    "js_road=parent_path+\"/src/data_processing/code_map.json\"\n",
    "with open(js_road, 'r') as fh:\n",
    "    code_map=json.load(fh)\n",
    "    for i in code_map.keys():\n",
    "        code_map[i]={int(m):n for m, n in code_map[i].items()}"
   ]
  },
  {
   "cell_type": "code",
   "execution_count": 15,
   "id": "6cfae310",
   "metadata": {},
   "outputs": [],
   "source": [
    "image_path=parent_path+'/result/eda/income_analysis'\n",
    "if not os.path.exists(image_path):\n",
    "    os.makedirs(image_path)"
   ]
  },
  {
   "cell_type": "code",
   "execution_count": 22,
   "id": "1e93e12a",
   "metadata": {},
   "outputs": [
    {
     "name": "stdout",
     "output_type": "stream",
     "text": [
      "         applicant_income_000s  action_taken                action\n",
      "2                        278.0             1  Institution approved\n",
      "4                         86.0             2  Institution approved\n",
      "5                         97.0             1  Institution approved\n",
      "6                        143.0             1  Institution approved\n",
      "9                         90.0             1  Institution approved\n",
      "...                        ...           ...                   ...\n",
      "1157534                    NaN             2  Institution approved\n",
      "1157535                    NaN             2  Institution approved\n",
      "1157536                    NaN             2  Institution approved\n",
      "1157537                    NaN             2  Institution approved\n",
      "1157538                    NaN             2  Institution approved\n",
      "\n",
      "[931357 rows x 3 columns]\n",
      "         applicant_income_000s  action_taken              action\n",
      "0                        144.0             3  Institution denied\n",
      "1                         51.0             3  Institution denied\n",
      "3                        125.0             3  Institution denied\n",
      "7                        196.0             3  Institution denied\n",
      "8                         61.0             3  Institution denied\n",
      "...                        ...           ...                 ...\n",
      "1157690                    NaN             3  Institution denied\n",
      "1157691                    NaN             3  Institution denied\n",
      "1157692                    NaN             3  Institution denied\n",
      "1157693                    NaN             3  Institution denied\n",
      "1157694                    NaN             3  Institution denied\n",
      "\n",
      "[226338 rows x 3 columns]\n"
     ]
    },
    {
     "data": {
      "text/plain": [
       "<Figure size 7200x504 with 0 Axes>"
      ]
     },
     "metadata": {},
     "output_type": "display_data"
    },
    {
     "data": {
      "text/plain": [
       "'\\n\\nplt.pie(df, labels = cars)\\nhist_accp = accp.hist(bins=100)\\nprint(hist_accp)\\nhist_deny = deny.hist(bins=2)\\nprint(hist_deny)\\n\\n'"
      ]
     },
     "execution_count": 22,
     "metadata": {},
     "output_type": "execute_result"
    }
   ],
   "source": [
    "\n",
    "# Accp income distribution\n",
    "# Deny income distribution\n",
    "accp = income.loc[(income['action_taken'] == 1) | (income['action_taken'] == 2) | (income['action_taken'] == 8)]\n",
    "deny = income.loc[(income['action_taken'] == 3) | (income['action_taken'] == 7)]\n",
    "print(accp)\n",
    "print(deny)\n",
    "#print(income.groupby(['action_taken_name'])['applicant_income_000s'].avg())\n",
    "\n",
    "\n",
    "\n",
    "#print(df)\n",
    "fig = plt.figure(figsize =(100, 7))\n",
    "#avg.plot(x='action_taken',y='applicant_income_000s',kind='bar')\n",
    "plt.show()\n",
    "'''\n",
    "\n",
    "plt.pie(df, labels = cars)\n",
    "hist_accp = accp.hist(bins=100)\n",
    "print(hist_accp)\n",
    "hist_deny = deny.hist(bins=2)\n",
    "print(hist_deny)\n",
    "\n",
    "'''\n"
   ]
  },
  {
   "cell_type": "code",
   "execution_count": 41,
   "id": "fff09a71",
   "metadata": {},
   "outputs": [],
   "source": [
    "def divi(x):\n",
    "    if x >=500:\n",
    "        return '500.0k+'\n",
    "    elif x==x: \n",
    "        flor = x//50\n",
    "        return str(flor*50)+'k+'\n",
    "    else:\n",
    "        return 'Unknown'"
   ]
  },
  {
   "cell_type": "code",
   "execution_count": 45,
   "id": "5a7e6815",
   "metadata": {},
   "outputs": [
    {
     "data": {
      "text/html": [
       "<div>\n",
       "<style scoped>\n",
       "    .dataframe tbody tr th:only-of-type {\n",
       "        vertical-align: middle;\n",
       "    }\n",
       "\n",
       "    .dataframe tbody tr th {\n",
       "        vertical-align: top;\n",
       "    }\n",
       "\n",
       "    .dataframe thead th {\n",
       "        text-align: right;\n",
       "    }\n",
       "</style>\n",
       "<table border=\"1\" class=\"dataframe\">\n",
       "  <thead>\n",
       "    <tr style=\"text-align: right;\">\n",
       "      <th></th>\n",
       "      <th>applicant_income_000s</th>\n",
       "      <th>action_taken</th>\n",
       "      <th>action</th>\n",
       "    </tr>\n",
       "  </thead>\n",
       "  <tbody>\n",
       "    <tr>\n",
       "      <th>175235</th>\n",
       "      <td>1.0</td>\n",
       "      <td>1</td>\n",
       "      <td>Institution approved</td>\n",
       "    </tr>\n",
       "    <tr>\n",
       "      <th>943728</th>\n",
       "      <td>1.0</td>\n",
       "      <td>1</td>\n",
       "      <td>Institution approved</td>\n",
       "    </tr>\n",
       "    <tr>\n",
       "      <th>224433</th>\n",
       "      <td>1.0</td>\n",
       "      <td>1</td>\n",
       "      <td>Institution approved</td>\n",
       "    </tr>\n",
       "    <tr>\n",
       "      <th>535627</th>\n",
       "      <td>1.0</td>\n",
       "      <td>1</td>\n",
       "      <td>Institution approved</td>\n",
       "    </tr>\n",
       "    <tr>\n",
       "      <th>920997</th>\n",
       "      <td>1.0</td>\n",
       "      <td>1</td>\n",
       "      <td>Institution approved</td>\n",
       "    </tr>\n",
       "    <tr>\n",
       "      <th>...</th>\n",
       "      <td>...</td>\n",
       "      <td>...</td>\n",
       "      <td>...</td>\n",
       "    </tr>\n",
       "    <tr>\n",
       "      <th>1157534</th>\n",
       "      <td>NaN</td>\n",
       "      <td>2</td>\n",
       "      <td>Institution approved</td>\n",
       "    </tr>\n",
       "    <tr>\n",
       "      <th>1157535</th>\n",
       "      <td>NaN</td>\n",
       "      <td>2</td>\n",
       "      <td>Institution approved</td>\n",
       "    </tr>\n",
       "    <tr>\n",
       "      <th>1157536</th>\n",
       "      <td>NaN</td>\n",
       "      <td>2</td>\n",
       "      <td>Institution approved</td>\n",
       "    </tr>\n",
       "    <tr>\n",
       "      <th>1157537</th>\n",
       "      <td>NaN</td>\n",
       "      <td>2</td>\n",
       "      <td>Institution approved</td>\n",
       "    </tr>\n",
       "    <tr>\n",
       "      <th>1157538</th>\n",
       "      <td>NaN</td>\n",
       "      <td>2</td>\n",
       "      <td>Institution approved</td>\n",
       "    </tr>\n",
       "  </tbody>\n",
       "</table>\n",
       "<p>931357 rows × 3 columns</p>\n",
       "</div>"
      ],
      "text/plain": [
       "         applicant_income_000s  action_taken                action\n",
       "175235                     1.0             1  Institution approved\n",
       "943728                     1.0             1  Institution approved\n",
       "224433                     1.0             1  Institution approved\n",
       "535627                     1.0             1  Institution approved\n",
       "920997                     1.0             1  Institution approved\n",
       "...                        ...           ...                   ...\n",
       "1157534                    NaN             2  Institution approved\n",
       "1157535                    NaN             2  Institution approved\n",
       "1157536                    NaN             2  Institution approved\n",
       "1157537                    NaN             2  Institution approved\n",
       "1157538                    NaN             2  Institution approved\n",
       "\n",
       "[931357 rows x 3 columns]"
      ]
     },
     "execution_count": 45,
     "metadata": {},
     "output_type": "execute_result"
    }
   ],
   "source": [
    "accp.sort_values('applicant_income_000s', ascending=True)"
   ]
  },
  {
   "cell_type": "code",
   "execution_count": 44,
   "id": "4e54123f",
   "metadata": {},
   "outputs": [
    {
     "data": {
      "text/plain": [
       "<AxesSubplot:>"
      ]
     },
     "execution_count": 44,
     "metadata": {},
     "output_type": "execute_result"
    },
    {
     "data": {
      "image/png": "[encoded data removed]",
      "text/plain": [
       "<Figure size 432x288 with 1 Axes>"
      ]
     },
     "metadata": {
      "needs_background": "light"
     },
     "output_type": "display_data"
    }
   ],
   "source": [
    "accp.sort_values('applicant_income_000s', ascending=True)['applicant_income_000s'].apply(divi).value_counts().plot.bar()"
   ]
  },
  {
   "cell_type": "code",
   "execution_count": 39,
   "id": "c6bedff8",
   "metadata": {},
   "outputs": [
    {
     "data": {
      "text/plain": [
       "<AxesSubplot:>"
      ]
     },
     "execution_count": 39,
     "metadata": {},
     "output_type": "execute_result"
    },
    {
     "data": {
      "image/png": "[encoded data removed]",
      "text/plain": [
       "<Figure size 432x288 with 1 Axes>"
      ]
     },
     "metadata": {
      "needs_background": "light"
     },
     "output_type": "display_data"
    }
   ],
   "source": [
    "deny['applicant_income_000s'].apply(divi).value_counts().plot.bar()"
   ]
  },
  {
   "cell_type": "code",
   "execution_count": 40,
   "id": "c9ba1f2d",
   "metadata": {},
   "outputs": [
    {
     "name": "stderr",
     "output_type": "stream",
     "text": [
      "<ipython-input-40-4bc7ffc45b0a>:5: SettingWithCopyWarning: \n",
      "A value is trying to be set on a copy of a slice from a DataFrame.\n",
      "Try using .loc[row_indexer,col_indexer] = value instead\n",
      "\n",
      "See the caveats in the documentation: https://pandas.pydata.org/pandas-docs/stable/user_guide/indexing.html#returning-a-view-versus-a-copy\n",
      "  income_b['action']= income['action_taken'].replace(RecodeAction)\n",
      "<ipython-input-40-4bc7ffc45b0a>:8: SettingWithCopyWarning: \n",
      "A value is trying to be set on a copy of a slice from a DataFrame.\n",
      "Try using .loc[row_indexer,col_indexer] = value instead\n",
      "\n",
      "See the caveats in the documentation: https://pandas.pydata.org/pandas-docs/stable/user_guide/indexing.html#returning-a-view-versus-a-copy\n",
      "  income_b['income_group'] = income_b['applicant_income_000s'].apply(divi)\n"
     ]
    },
    {
     "name": "stdout",
     "output_type": "stream",
     "text": [
      "         applicant_income_000s  action_taken                action  \\\n",
      "0                        144.0             3    Institution denied   \n",
      "1                         51.0             3    Institution denied   \n",
      "2                        278.0             1  Institution approved   \n",
      "3                        125.0             3    Institution denied   \n",
      "4                         86.0             2  Institution approved   \n",
      "...                        ...           ...                   ...   \n",
      "1157690                    NaN             3    Institution denied   \n",
      "1157691                    NaN             3    Institution denied   \n",
      "1157692                    NaN             3    Institution denied   \n",
      "1157693                    NaN             3    Institution denied   \n",
      "1157694                    NaN             3    Institution denied   \n",
      "\n",
      "        income_group  \n",
      "0            100.0k+  \n",
      "1              0.0k+  \n",
      "2            200.0k+  \n",
      "3            100.0k+  \n",
      "4              0.0k+  \n",
      "...              ...  \n",
      "1157690      Unknown  \n",
      "1157691      Unknown  \n",
      "1157692      Unknown  \n",
      "1157693      Unknown  \n",
      "1157694      Unknown  \n",
      "\n",
      "[1157695 rows x 4 columns]\n"
     ]
    },
    {
     "data": {
      "text/plain": [
       "Text(0, 0.5, 'count')"
      ]
     },
     "execution_count": 40,
     "metadata": {},
     "output_type": "execute_result"
    },
    {
     "data": {
      "text/plain": [
       "<Figure size 432x288 with 0 Axes>"
      ]
     },
     "metadata": {},
     "output_type": "display_data"
    },
    {
     "data": {
      "image/png": "[encoded data removed]",
      "text/plain": [
       "<Figure size 432x288 with 1 Axes>"
      ]
     },
     "metadata": {
      "needs_background": "light"
     },
     "output_type": "display_data"
    }
   ],
   "source": [
    "income = data[['applicant_income_000s','action_taken']]\n",
    "#print(income)\n",
    "RecodeAction={1:\"Institution approved\",2:\"Institution approved\", 3:'Institution denied', 7:'Institution denied',8:'Institution approved'}\n",
    "income_b=income\n",
    "income_b['action']= income['action_taken'].replace(RecodeAction)\n",
    "\n",
    "\n",
    "income_b['income_group'] = income_b['applicant_income_000s'].apply(divi)\n",
    "print(income_b)\n",
    "income_a1=income_b.pivot_table(index='income_group', columns='action',aggfunc='size',fill_value=0)\n",
    "plt.figure()\n",
    "income_a1.plot.bar(title='Application Result Counts vs Income')\n",
    "plt.ylabel('count')\n",
    "#plt.xticks(rotation=360)"
   ]
  },
  {
   "cell_type": "code",
   "execution_count": null,
   "id": "b20ec8f2",
   "metadata": {},
   "outputs": [],
   "source": []
  }
 ],
 "metadata": {
  "kernelspec": {
   "display_name": "Python 3",
   "language": "python",
   "name": "python3"
  },
  "language_info": {
   "codemirror_mode": {
    "name": "ipython",
    "version": 3
   },
   "file_extension": ".py",
   "mimetype": "text/x-python",
   "name": "python",
   "nbconvert_exporter": "python",
   "pygments_lexer": "ipython3",
   "version": "3.8.8"
  }
 },
 "nbformat": 4,
 "nbformat_minor": 5
}
