{
 "cells": [
  {
   "cell_type": "code",
   "execution_count": 17,
   "id": "3fac8d05",
   "metadata": {},
   "outputs": [],
   "source": [
    "import pandas as pd\n",
    "import os\n",
    "from pathlib import Path\n",
    "import matplotlib.pyplot as plt\n",
    "import json\n",
    "import numpy as np\n",
    "import pyodbc\n",
    "import matplotlib as mpl\n",
    "mpl.rcParams['agg.path.chunksize'] = 10000\n",
    "\n"
   ]
  },
  {
   "cell_type": "code",
   "execution_count": 9,
   "id": "c91c56e6",
   "metadata": {},
   "outputs": [],
   "source": [
    "path=Path()\n",
    "parent_path=str(path.parent.absolute())[:-10]"
   ]
  },
  {
   "cell_type": "code",
   "execution_count": 11,
   "id": "9c21723c",
   "metadata": {},
   "outputs": [
    {
     "name": "stdout",
     "output_type": "stream",
     "text": [
      "Index(['as_of_year', 'respondent_id', 'agency_abbr', 'agency_code',\n",
      "       'loan_type', 'property_type', 'loan_purpose', 'owner_occupancy',\n",
      "       'loan_amount_000s', 'preapproval', 'action_taken', 'msamd',\n",
      "       'state_abbr', 'state_code', 'county_code', 'census_tract_number',\n",
      "       'applicant_ethnicity', 'co_applicant_ethnicity', 'applicant_race_1',\n",
      "       'applicant_race_2', 'applicant_race_3', 'applicant_race_4',\n",
      "       'applicant_race_5', 'co_applicant_race_1', 'co_applicant_race_2',\n",
      "       'co_applicant_race_3', 'co_applicant_race_4', 'co_applicant_race_5',\n",
      "       'applicant_sex', 'co_applicant_sex', 'applicant_income_000s',\n",
      "       'purchaser_type', 'denial_reason_1', 'denial_reason_2',\n",
      "       'denial_reason_3', 'rate_spread', 'hoepa_status', 'lien_status',\n",
      "       'edit_status', 'sequence_number', 'population', 'minority_population',\n",
      "       'hud_median_family_income', 'tract_to_msamd_income',\n",
      "       'number_of_owner_occupied_units', 'number_of_1_to_4_family_units',\n",
      "       'application_date_indicator'],\n",
      "      dtype='object')\n"
     ]
    }
   ],
   "source": [
    "data = pd.read_csv(parent_path+\"/data/csvs/hmda_2017_ca_noname.csv\")\n",
    "print(data.columns)\n",
    "#print(data['action_taken'])"
   ]
  },
  {
   "cell_type": "code",
   "execution_count": 13,
   "id": "a90ca10b",
   "metadata": {},
   "outputs": [],
   "source": [
    "js_road=parent_path+\"/src/data_processing/code_map.json\"\n",
    "with open(js_road, 'r') as fh:\n",
    "    code_map=json.load(fh)\n",
    "    for i in code_map.keys():\n",
    "        code_map[i]={int(m):n for m, n in code_map[i].items()}"
   ]
  },
  {
   "cell_type": "code",
   "execution_count": 83,
   "id": "2cf0e23c",
   "metadata": {},
   "outputs": [],
   "source": [
    "image_path=parent_path+'/result/eda/income_analysis/'\n",
    "if not os.path.exists(image_path):\n",
    "    os.makedirs(image_path)"
   ]
  },
  {
   "cell_type": "code",
   "execution_count": 22,
   "id": "1e93e12a",
   "metadata": {},
   "outputs": [
    {
     "name": "stdout",
     "output_type": "stream",
     "text": [
      "         applicant_income_000s  action_taken                action\n",
      "2                        278.0             1  Institution approved\n",
      "4                         86.0             2  Institution approved\n",
      "5                         97.0             1  Institution approved\n",
      "6                        143.0             1  Institution approved\n",
      "9                         90.0             1  Institution approved\n",
      "...                        ...           ...                   ...\n",
      "1157534                    NaN             2  Institution approved\n",
      "1157535                    NaN             2  Institution approved\n",
      "1157536                    NaN             2  Institution approved\n",
      "1157537                    NaN             2  Institution approved\n",
      "1157538                    NaN             2  Institution approved\n",
      "\n",
      "[931357 rows x 3 columns]\n",
      "         applicant_income_000s  action_taken              action\n",
      "0                        144.0             3  Institution denied\n",
      "1                         51.0             3  Institution denied\n",
      "3                        125.0             3  Institution denied\n",
      "7                        196.0             3  Institution denied\n",
      "8                         61.0             3  Institution denied\n",
      "...                        ...           ...                 ...\n",
      "1157690                    NaN             3  Institution denied\n",
      "1157691                    NaN             3  Institution denied\n",
      "1157692                    NaN             3  Institution denied\n",
      "1157693                    NaN             3  Institution denied\n",
      "1157694                    NaN             3  Institution denied\n",
      "\n",
      "[226338 rows x 3 columns]\n"
     ]
    },
    {
     "data": {
      "text/plain": [
       "<Figure size 7200x504 with 0 Axes>"
      ]
     },
     "metadata": {},
     "output_type": "display_data"
    },
    {
     "data": {
      "text/plain": [
       "'\\n\\nplt.pie(df, labels = cars)\\nhist_accp = accp.hist(bins=100)\\nprint(hist_accp)\\nhist_deny = deny.hist(bins=2)\\nprint(hist_deny)\\n\\n'"
      ]
     },
     "execution_count": 22,
     "metadata": {},
     "output_type": "execute_result"
    }
   ],
   "source": [
    "\n",
    "# Accp income distribution\n",
    "# Deny income distribution\n",
    "accp = income.loc[(income['action_taken'] == 1) | (income['action_taken'] == 2) | (income['action_taken'] == 8)]\n",
    "deny = income.loc[(income['action_taken'] == 3) | (income['action_taken'] == 7)]\n",
    "print(accp)\n",
    "print(deny)\n",
    "#print(income.groupby(['action_taken_name'])['applicant_income_000s'].avg())\n",
    "\n",
    "\n",
    "\n",
    "#print(df)\n",
    "fig = plt.figure(figsize =(100, 7))\n",
    "#avg.plot(x='action_taken',y='applicant_income_000s',kind='bar')\n",
    "plt.show()\n",
    "'''\n",
    "\n",
    "plt.pie(df, labels = cars)\n",
    "hist_accp = accp.hist(bins=100)\n",
    "print(hist_accp)\n",
    "hist_deny = deny.hist(bins=2)\n",
    "print(hist_deny)\n",
    "\n",
    "'''\n"
   ]
  },
  {
   "cell_type": "code",
   "execution_count": 76,
   "id": "fff09a71",
   "metadata": {},
   "outputs": [],
   "source": [
    "def divi(x):\n",
    "    if x >=500:\n",
    "        return 500000\n",
    "    elif x==x: \n",
    "        flor = x//30\n",
    "        return flor*30000\n",
    "    else:\n",
    "        return -1"
   ]
  },
  {
   "cell_type": "code",
   "execution_count": 77,
   "id": "e0630b24",
   "metadata": {},
   "outputs": [
    {
     "data": {
      "text/plain": [
       "-1.0          51616\n",
       " 0.0          17254\n",
       " 30000.0     120573\n",
       " 60000.0     193085\n",
       " 90000.0     163872\n",
       " 120000.0    114190\n",
       " 150000.0     77068\n",
       " 180000.0     51215\n",
       " 210000.0     33639\n",
       " 240000.0     24008\n",
       " 270000.0     16846\n",
       " 300000.0     13044\n",
       " 330000.0      9329\n",
       " 360000.0      7101\n",
       " 390000.0      5412\n",
       " 420000.0      4241\n",
       " 450000.0      3693\n",
       " 480000.0      1992\n",
       " 500000.0     23179\n",
       "Name: applicant_income_000s, dtype: int64"
      ]
     },
     "execution_count": 77,
     "metadata": {},
     "output_type": "execute_result"
    }
   ],
   "source": [
    "accp['applicant_income_000s'].apply(divi).value_counts().sort_index()"
   ]
  },
  {
   "cell_type": "code",
   "execution_count": 87,
   "id": "4e54123f",
   "metadata": {},
   "outputs": [
    {
     "data": {
      "image/png": "[encoded data removed]",
      "text/plain": [
       "<Figure size 432x288 with 1 Axes>"
      ]
     },
     "metadata": {
      "needs_background": "light"
     },
     "output_type": "display_data"
    }
   ],
   "source": [
    "accp['applicant_income_000s'].apply(divi).value_counts().sort_index().plot.bar(title='Institution_approved_income_dist')\n",
    "plt.savefig(image_path+'Institution_approved_income_dist.png',bbox_inches='tight')"
   ]
  },
  {
   "cell_type": "code",
   "execution_count": 88,
   "id": "c6bedff8",
   "metadata": {},
   "outputs": [
    {
     "data": {
      "image/png": "[encoded data removed]",
      "text/plain": [
       "<Figure size 432x288 with 1 Axes>"
      ]
     },
     "metadata": {
      "needs_background": "light"
     },
     "output_type": "display_data"
    }
   ],
   "source": [
    "deny['applicant_income_000s'].apply(divi).value_counts().sort_index().plot.bar(title='Institution_denied_income_dist')\n",
    "plt.savefig(image_path+'Institution_denied_income_dist.png',bbox_inches='tight')"
   ]
  },
  {
   "cell_type": "code",
   "execution_count": 90,
   "id": "c9ba1f2d",
   "metadata": {},
   "outputs": [
    {
     "name": "stderr",
     "output_type": "stream",
     "text": [
      "<ipython-input-90-e51ffa32f9a7>:5: SettingWithCopyWarning: \n",
      "A value is trying to be set on a copy of a slice from a DataFrame.\n",
      "Try using .loc[row_indexer,col_indexer] = value instead\n",
      "\n",
      "See the caveats in the documentation: https://pandas.pydata.org/pandas-docs/stable/user_guide/indexing.html#returning-a-view-versus-a-copy\n",
      "  income_b['action']= income['action_taken'].replace(RecodeAction)\n",
      "<ipython-input-90-e51ffa32f9a7>:8: SettingWithCopyWarning: \n",
      "A value is trying to be set on a copy of a slice from a DataFrame.\n",
      "Try using .loc[row_indexer,col_indexer] = value instead\n",
      "\n",
      "See the caveats in the documentation: https://pandas.pydata.org/pandas-docs/stable/user_guide/indexing.html#returning-a-view-versus-a-copy\n",
      "  income_b['income_group'] = income_b['applicant_income_000s'].apply(divi)\n"
     ]
    },
    {
     "name": "stdout",
     "output_type": "stream",
     "text": [
      "         applicant_income_000s  action_taken                action  \\\n",
      "0                        144.0             3    Institution denied   \n",
      "1                         51.0             3    Institution denied   \n",
      "2                        278.0             1  Institution approved   \n",
      "3                        125.0             3    Institution denied   \n",
      "4                         86.0             2  Institution approved   \n",
      "...                        ...           ...                   ...   \n",
      "1157690                    NaN             3    Institution denied   \n",
      "1157691                    NaN             3    Institution denied   \n",
      "1157692                    NaN             3    Institution denied   \n",
      "1157693                    NaN             3    Institution denied   \n",
      "1157694                    NaN             3    Institution denied   \n",
      "\n",
      "         income_group  \n",
      "0            120000.0  \n",
      "1             30000.0  \n",
      "2            270000.0  \n",
      "3            120000.0  \n",
      "4             60000.0  \n",
      "...               ...  \n",
      "1157690          -1.0  \n",
      "1157691          -1.0  \n",
      "1157692          -1.0  \n",
      "1157693          -1.0  \n",
      "1157694          -1.0  \n",
      "\n",
      "[1157695 rows x 4 columns]\n"
     ]
    },
    {
     "data": {
      "text/plain": [
       "<Figure size 432x288 with 0 Axes>"
      ]
     },
     "metadata": {},
     "output_type": "display_data"
    },
    {
     "data": {
      "image/png": "[encoded data removed]",
      "text/plain": [
       "<Figure size 432x288 with 1 Axes>"
      ]
     },
     "metadata": {
      "needs_background": "light"
     },
     "output_type": "display_data"
    }
   ],
   "source": [
    "income = data[['applicant_income_000s','action_taken']]\n",
    "#print(income)\n",
    "RecodeAction={1:\"Institution approved\",2:\"Institution approved\", 3:'Institution denied', 7:'Institution denied',8:'Institution approved'}\n",
    "income_b=income\n",
    "income_b['action']= income['action_taken'].replace(RecodeAction)\n",
    "\n",
    "\n",
    "income_b['income_group'] = income_b['applicant_income_000s'].apply(divi)\n",
    "print(income_b)\n",
    "income_a1=income_b.pivot_table(index='income_group', columns='action',aggfunc='size',fill_value=0)\n",
    "plt.figure()\n",
    "income_a1.plot.bar(title='Application Result Counts vs Income')\n",
    "plt.ylabel('count')\n",
    "plt.savefig(image_path+'Application Result Counts vs Income.png',bbox_inches='tight')\n",
    "#plt.xticks(rotation=360)"
   ]
  },
  {
   "cell_type": "code",
   "execution_count": null,
   "id": "98b4212a",
   "metadata": {},
   "outputs": [],
   "source": []
  }
 ],
 "metadata": {
  "kernelspec": {
   "display_name": "Python 3",
   "language": "python",
   "name": "python3"
  },
  "language_info": {
   "codemirror_mode": {
    "name": "ipython",
    "version": 3
   },
   "file_extension": ".py",
   "mimetype": "text/x-python",
   "name": "python",
   "nbconvert_exporter": "python",
   "pygments_lexer": "ipython3",
   "version": "3.8.8"
  }
 },
 "nbformat": 4,
 "nbformat_minor": 5
}
