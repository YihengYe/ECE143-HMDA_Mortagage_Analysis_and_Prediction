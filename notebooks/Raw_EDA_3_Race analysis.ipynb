{
 "cells": [
  {
   "cell_type": "code",
   "execution_count": 7,
   "id": "continued-alcohol",
   "metadata": {},
   "outputs": [],
   "source": [
    "import pandas as pd\n",
    "import os\n",
    "from pathlib import Path\n",
    "import matplotlib.pyplot as plt\n",
    "import json"
   ]
  },
  {
   "cell_type": "code",
   "execution_count": 8,
   "id": "analyzed-statement",
   "metadata": {},
   "outputs": [],
   "source": [
    "path=Path()\n",
    "parent_path=str(path.parent.absolute())[:-10]"
   ]
  },
  {
   "cell_type": "code",
   "execution_count": 9,
   "id": "corporate-infrared",
   "metadata": {},
   "outputs": [],
   "source": [
    "removed_csv=parent_path+\"/data/csvs/hmda_2017_ca_noname.csv\""
   ]
  },
  {
   "cell_type": "code",
   "execution_count": 10,
   "id": "thermal-rouge",
   "metadata": {},
   "outputs": [],
   "source": [
    "numerics = ['loan_amount_000s', 'applicant_income_000s', 'population', 'minority_population',\n",
    "            'hud_median_family_income', 'tract_to_msamd_income', 'number_of_owner_occupied_units',\n",
    "            'number_of_1_to_4_family_units', 'application_date_indicator', 'rate_spread']\n",
    "dtypes={}\n",
    "for num in numerics:\n",
    "        dtypes[num] = 'float64'"
   ]
  },
  {
   "cell_type": "code",
   "execution_count": 11,
   "id": "bright-leisure",
   "metadata": {},
   "outputs": [],
   "source": [
    "skimmed_df=pd.read_csv(removed_csv, low_memory=False, dtype=dtypes, na_values=' ')"
   ]
  },
  {
   "cell_type": "code",
   "execution_count": 13,
   "id": "surprised-newman",
   "metadata": {},
   "outputs": [],
   "source": [
    "js_road=parent_path+\"/src/data_processing/code_map.json\""
   ]
  },
  {
   "cell_type": "code",
   "execution_count": 14,
   "id": "coordinate-blood",
   "metadata": {},
   "outputs": [],
   "source": [
    "with open(js_road, 'r') as fh:\n",
    "    code_map=json.load(fh)\n",
    "    for i in code_map.keys():\n",
    "        code_map[i]={int(m):n for m, n in code_map[i].items()}"
   ]
  },
  {
   "cell_type": "code",
   "execution_count": 15,
   "id": "canadian-budget",
   "metadata": {},
   "outputs": [
    {
     "data": {
      "text/plain": [
       "Index(['as_of_year', 'respondent_id', 'agency_abbr', 'agency_code',\n",
       "       'loan_type', 'property_type', 'loan_purpose', 'owner_occupancy',\n",
       "       'loan_amount_000s', 'preapproval', 'action_taken', 'msamd',\n",
       "       'state_abbr', 'state_code', 'county_code', 'census_tract_number',\n",
       "       'applicant_ethnicity', 'co_applicant_ethnicity', 'applicant_race_1',\n",
       "       'applicant_race_2', 'applicant_race_3', 'applicant_race_4',\n",
       "       'applicant_race_5', 'co_applicant_race_1', 'co_applicant_race_2',\n",
       "       'co_applicant_race_3', 'co_applicant_race_4', 'co_applicant_race_5',\n",
       "       'applicant_sex', 'co_applicant_sex', 'applicant_income_000s',\n",
       "       'purchaser_type', 'denial_reason_1', 'denial_reason_2',\n",
       "       'denial_reason_3', 'rate_spread', 'hoepa_status', 'lien_status',\n",
       "       'edit_status', 'sequence_number', 'population', 'minority_population',\n",
       "       'hud_median_family_income', 'tract_to_msamd_income',\n",
       "       'number_of_owner_occupied_units', 'number_of_1_to_4_family_units',\n",
       "       'application_date_indicator'],\n",
       "      dtype='object')"
      ]
     },
     "execution_count": 15,
     "metadata": {},
     "output_type": "execute_result"
    }
   ],
   "source": [
    "skimmed_df.columns"
   ]
  },
  {
   "cell_type": "code",
   "execution_count": 16,
   "id": "premium-webster",
   "metadata": {},
   "outputs": [
    {
     "data": {
      "text/plain": [
       "dict_keys(['agency', 'loan_type', 'property_type', 'loan_purpose', 'owner_occupancy', 'preapproval', 'action_taken', 'ethnicity', 'race', 'sex', 'purchaser_type', 'denial_reason', 'hoepa_status', 'lien_status', 'edit_status', 'county'])"
      ]
     },
     "execution_count": 16,
     "metadata": {},
     "output_type": "execute_result"
    }
   ],
   "source": [
    "code_map.keys()"
   ]
  },
  {
   "cell_type": "code",
   "execution_count": 17,
   "id": "destroyed-census",
   "metadata": {},
   "outputs": [],
   "source": [
    "image_path=parent_path+'/result/eda/'\n",
    "if not os.path.exists(image_path):\n",
    "    os.makedirs(image_path)"
   ]
  },
  {
   "cell_type": "markdown",
   "id": "novel-hurricane",
   "metadata": {},
   "source": [
    "Race analysis"
   ]
  },
  {
   "cell_type": "code",
   "execution_count": 19,
   "id": "steady-nickel",
   "metadata": {},
   "outputs": [
    {
     "data": {
      "text/plain": [
       "0          5\n",
       "1          2\n",
       "2          6\n",
       "3          5\n",
       "4          5\n",
       "          ..\n",
       "1157690    7\n",
       "1157691    4\n",
       "1157692    6\n",
       "1157693    6\n",
       "1157694    7\n",
       "Name: applicant_race_1, Length: 1157695, dtype: int64"
      ]
     },
     "execution_count": 19,
     "metadata": {},
     "output_type": "execute_result"
    }
   ],
   "source": [
    "skimmed_df['applicant_race_1']"
   ]
  },
  {
   "cell_type": "code",
   "execution_count": 33,
   "id": "billion-flashing",
   "metadata": {},
   "outputs": [],
   "source": [
    "RaceMap=code_map['race'].copy()\n",
    "#genderMap[3]='Information not provided by applicant'"
   ]
  },
  {
   "cell_type": "code",
   "execution_count": 34,
   "id": "voluntary-meter",
   "metadata": {},
   "outputs": [
    {
     "data": {
      "text/plain": [
       "{1: 'American Indian or Alaska Native',\n",
       " 2: 'Asian',\n",
       " 3: 'Black or African American',\n",
       " 4: 'Native Hawaiian or Other Pacific Islander',\n",
       " 5: 'White',\n",
       " 6: 'Information not provided by applicant in mail, Internet, or telephone application',\n",
       " 7: 'Not applicable',\n",
       " 8: 'No co-applicant'}"
      ]
     },
     "execution_count": 34,
     "metadata": {},
     "output_type": "execute_result"
    }
   ],
   "source": [
    "RaceMap"
   ]
  },
  {
   "cell_type": "code",
   "execution_count": 36,
   "id": "separate-paraguay",
   "metadata": {},
   "outputs": [
    {
     "data": {
      "text/plain": [
       "<AxesSubplot:title={'center':'Race Composition for All Applicants'}, ylabel='applicant_race_1'>"
      ]
     },
     "execution_count": 36,
     "metadata": {},
     "output_type": "execute_result"
    },
    {
     "data": {
      "image/png": "[encoded data removed]",
      "text/plain": [
       "<Figure size 720x720 with 1 Axes>"
      ]
     },
     "metadata": {},
     "output_type": "display_data"
    }
   ],
   "source": [
    "Race_total=skimmed_df['applicant_race_1'].value_counts()\n",
    "plt.figure(figsize=(10,10))\n",
    "Race_total=Race_total.rename(index=RaceMap)\n",
    "Race_total.plot.pie(legend=False, title='Race Composition for All Applicants',autopct='%1.1f%%')\n",
    "#plt.savefig(image_path+'Total_applicant_gender.png', bbox_inches='tight')"
   ]
  },
  {
   "cell_type": "code",
   "execution_count": null,
   "id": "chemical-amazon",
   "metadata": {},
   "outputs": [],
   "source": []
  }
 ],
 "metadata": {
  "kernelspec": {
   "display_name": "Python 3",
   "language": "python",
   "name": "python3"
  },
  "language_info": {
   "codemirror_mode": {
    "name": "ipython",
    "version": 3
   },
   "file_extension": ".py",
   "mimetype": "text/x-python",
   "name": "python",
   "nbconvert_exporter": "python",
   "pygments_lexer": "ipython3",
   "version": "3.7.6"
  }
 },
 "nbformat": 4,
 "nbformat_minor": 5
}
