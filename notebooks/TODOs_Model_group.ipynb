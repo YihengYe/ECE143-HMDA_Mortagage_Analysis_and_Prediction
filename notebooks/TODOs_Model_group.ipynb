{
 "cells": [
  {
   "cell_type": "markdown",
   "id": "86b59e96",
   "metadata": {},
   "source": [
    "# TODOs: Prediction Group"
   ]
  },
  {
   "cell_type": "markdown",
   "id": "9aac9bd8",
   "metadata": {},
   "source": [
    "## Dataset processing\n",
    "1. Further pre-processing\n",
    "   * Empty Value\n",
    "   * Other things...\n",
    "2. Data Augmentation: Necessary?\n",
    "3. Dataset split -- sklearn provided\n",
    "   * Training/Validation/Testing\n",
    "   * Split according to model\n",
    "4. Labeling\n",
    "   * How? Preapproval? Action taken? Denial reason?"
   ]
  },
  {
   "cell_type": "markdown",
   "id": "2a47e03b",
   "metadata": {},
   "source": [
    "## Feature Engineering?\n",
    "* Must do: enumeration-value features\n",
    "* Other designed combination feature?\n",
    "  * Normalization needed? according to different models\n",
    "  * Race & Ethnicity: Multi-hot coding\n",
    "  * Co-applicant: abandon for a moment, or design as Have/Not have\n",
    "  *"
   ]
  },
  {
   "cell_type": "markdown",
   "id": "44f9f8d6",
   "metadata": {},
   "source": [
    "## Model Design & Training\n",
    "* What model?\n",
    "  * Currently Naive Bayesian Tree & Linear Regression\n",
    "  * Work for all: align API of these models to scikit-learn\n",
    "* Hyper-parameter: take time"
   ]
  },
  {
   "cell_type": "markdown",
   "id": "bd60c7c4",
   "metadata": {},
   "source": [
    "## Outcome\n",
    "Visualization"
   ]
  },
  {
   "cell_type": "code",
   "execution_count": null,
   "id": "b931c18f",
   "metadata": {},
   "outputs": [],
   "source": []
  }
 ],
 "metadata": {
  "kernelspec": {
   "display_name": "Python 3 (ipykernel)",
   "language": "python",
   "name": "python3"
  },
  "language_info": {
   "codemirror_mode": {
    "name": "ipython",
    "version": 3
   },
   "file_extension": ".py",
   "mimetype": "text/x-python",
   "name": "python",
   "nbconvert_exporter": "python",
   "pygments_lexer": "ipython3",
   "version": "3.8.10"
  }
 },
 "nbformat": 4,
 "nbformat_minor": 5
}