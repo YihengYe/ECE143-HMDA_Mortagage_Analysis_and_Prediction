{
 "cells": [
  {
   "cell_type": "markdown",
   "id": "86b59e96",
   "metadata": {},
   "source": [
    "# TODOs: Prediction Group"
   ]
  },
  {
   "cell_type": "markdown",
   "id": "9aac9bd8",
   "metadata": {},
   "source": [
    "## Dataset processing\n",
    "1. Further pre-processing\n",
    "   * Empty Value\n",
    "   * Other things...\n",
    "2. Dataset split -- sklearn provided\n",
    "   * Training/Testing (Maybe 90-10? 95-5?)\n",
    "   * Split according to model\n",
    "   * : Zicheng to write dataset split, maybe using the same splitting result\n",
    "3. Labeling\n",
    "   * How? Preapproval? Action taken? Denial reason?\n",
    "   * Action taken T = (1,2,4?,6,8) F = (3,5,7); 4 -- Application withdrawn by applicant how?\n",
    "   * Addition task: denial reason\n",
    "4. Data Augmentation: Necessary?\n",
    "   * According to T/F split above, F = 30k, nearly 1/6 of the dataset, maybe no need to augment"
   ]
  },
  {
   "cell_type": "markdown",
   "id": "2a47e03b",
   "metadata": {},
   "source": [
    "## Feature Engineering?\n",
    "* Must do: enumeration-value features\n",
    "  * Continuous model: one-hot / multihot\n",
    "* Other designed combination feature?\n",
    "  * Normalization needed for continuous model?\n",
    "  * Race & Ethnicity: Abandon ethenicity\n",
    "    * (For discrete model) Only use race_1 (race_2+ only have less than 15k lines)  \n",
    "    * (For continuous model) Multi-hot code\n",
    "  * Co-applicant: design as Have/Not have\n",
    "  * (For discrete model) Amount_000s data, can be designed as discrete label using flooring functions (as integer labels)\n",
    "  * MSAMD statistics: Abandon for the time being, can be categorized as locational information, replaced by county_info"
   ]
  },
  {
   "cell_type": "markdown",
   "id": "44f9f8d6",
   "metadata": {},
   "source": [
    "## Model Design & Training\n",
    "* What model?\n",
    "  * Currently, Naive Bayesian Tree & Linear Regression\n",
    "  * Work for all: align API of these models to scikit-learn\n",
    "  * Discrete model:  Naive Bayesian (Decision Tree)\n",
    "  * Continuous model: Linear Regression / SVC\n",
    "* Hyper-parameter: take time"
   ]
  },
  {
   "cell_type": "markdown",
   "id": "bd60c7c4",
   "metadata": {},
   "source": [
    "## Outcome\n",
    "* Prediction precision on dataset\n",
    "* Plus: training on denial reason?"
   ]
  }
 ],
 "metadata": {
  "kernelspec": {
   "display_name": "Python 3 (ipykernel)",
   "language": "python",
   "name": "python3"
  },
  "language_info": {
   "codemirror_mode": {
    "name": "ipython",
    "version": 3
   },
   "file_extension": ".py",
   "mimetype": "text/x-python",
   "name": "python",
   "nbconvert_exporter": "python",
   "pygments_lexer": "ipython3",
   "version": "3.8.10"
  }
 },
 "nbformat": 4,
 "nbformat_minor": 5
}
