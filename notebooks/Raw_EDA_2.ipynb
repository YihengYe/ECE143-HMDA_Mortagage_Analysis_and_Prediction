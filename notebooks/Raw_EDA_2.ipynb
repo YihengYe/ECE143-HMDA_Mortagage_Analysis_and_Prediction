{
 "cells": [
  {
   "cell_type": "markdown",
   "id": "d2568c96",
   "metadata": {},
   "source": [
    "# Generate basic applicant compositions"
   ]
  },
  {
   "cell_type": "markdown",
   "id": "3651223c",
   "metadata": {},
   "source": [
    "1. Preparation"
   ]
  },
  {
   "cell_type": "code",
   "execution_count": 28,
   "id": "8dc20fd9",
   "metadata": {},
   "outputs": [],
   "source": [
    "import pandas as pd\n",
    "import os\n",
    "from pathlib import Path\n",
    "import matplotlib.pyplot as plt\n",
    "import json"
   ]
  },
  {
   "cell_type": "code",
   "execution_count": 29,
   "id": "32e6c919",
   "metadata": {},
   "outputs": [],
   "source": [
    "path=Path()\n",
    "parent_path=str(path.parent.absolute())[:-10]"
   ]
  },
  {
   "cell_type": "code",
   "execution_count": 30,
   "id": "1a6aa2f9",
   "metadata": {},
   "outputs": [],
   "source": [
    "removed_csv=parent_path+\"/data/csvs/hmda_2017_ca_noname.csv\""
   ]
  },
  {
   "cell_type": "code",
   "execution_count": 31,
   "id": "f75ddd51",
   "metadata": {},
   "outputs": [],
   "source": [
    "numerics = ['loan_amount_000s', 'applicant_income_000s', 'population', 'minority_population',\n",
    "            'hud_median_family_income', 'tract_to_msamd_income', 'number_of_owner_occupied_units',\n",
    "            'number_of_1_to_4_family_units', 'application_date_indicator', 'rate_spread']\n",
    "dtypes={}\n",
    "for num in numerics:\n",
    "        dtypes[num] = 'float64'"
   ]
  },
  {
   "cell_type": "code",
   "execution_count": 32,
   "id": "e7e7a4ab",
   "metadata": {},
   "outputs": [],
   "source": [
    "skimmed_df=pd.read_csv(removed_csv, low_memory=False, dtype=dtypes, na_values=' ')"
   ]
  },
  {
   "cell_type": "code",
   "execution_count": 33,
   "id": "7afa6f9c",
   "metadata": {},
   "outputs": [],
   "source": [
    "js_road=parent_path+\"/src/data_processing/code_map.json\""
   ]
  },
  {
   "cell_type": "code",
   "execution_count": 34,
   "id": "0be3228c",
   "metadata": {},
   "outputs": [],
   "source": [
    "with open(js_road, 'r') as fh:\n",
    "    code_map=json.load(fh)\n",
    "    for i in code_map.keys():\n",
    "        code_map[i]={int(m):n for m, n in code_map[i].items()}"
   ]
  },
  {
   "cell_type": "code",
   "execution_count": 35,
   "id": "d24e7079",
   "metadata": {},
   "outputs": [
    {
     "data": {
      "text/plain": [
       "Index(['as_of_year', 'respondent_id', 'agency_abbr', 'agency_code',\n",
       "       'loan_type', 'property_type', 'loan_purpose', 'owner_occupancy',\n",
       "       'loan_amount_000s', 'preapproval', 'action_taken', 'msamd',\n",
       "       'state_abbr', 'state_code', 'county_code', 'census_tract_number',\n",
       "       'applicant_ethnicity', 'co_applicant_ethnicity', 'applicant_race_1',\n",
       "       'applicant_race_2', 'applicant_race_3', 'applicant_race_4',\n",
       "       'applicant_race_5', 'co_applicant_race_1', 'co_applicant_race_2',\n",
       "       'co_applicant_race_3', 'co_applicant_race_4', 'co_applicant_race_5',\n",
       "       'applicant_sex', 'co_applicant_sex', 'applicant_income_000s',\n",
       "       'purchaser_type', 'denial_reason_1', 'denial_reason_2',\n",
       "       'denial_reason_3', 'rate_spread', 'hoepa_status', 'lien_status',\n",
       "       'edit_status', 'sequence_number', 'population', 'minority_population',\n",
       "       'hud_median_family_income', 'tract_to_msamd_income',\n",
       "       'number_of_owner_occupied_units', 'number_of_1_to_4_family_units',\n",
       "       'application_date_indicator'],\n",
       "      dtype='object')"
      ]
     },
     "execution_count": 35,
     "metadata": {},
     "output_type": "execute_result"
    }
   ],
   "source": [
    "skimmed_df.columns"
   ]
  },
  {
   "cell_type": "code",
   "execution_count": 36,
   "id": "817e3bb4",
   "metadata": {},
   "outputs": [
    {
     "data": {
      "text/plain": [
       "dict_keys(['agency', 'loan_type', 'property_type', 'loan_purpose', 'owner_occupancy', 'preapproval', 'action_taken', 'ethnicity', 'race', 'sex', 'purchaser_type', 'denial_reason', 'hoepa_status', 'lien_status', 'edit_status', 'county'])"
      ]
     },
     "execution_count": 36,
     "metadata": {},
     "output_type": "execute_result"
    }
   ],
   "source": [
    "code_map.keys()"
   ]
  },
  {
   "cell_type": "code",
   "execution_count": 37,
   "id": "8183db62",
   "metadata": {},
   "outputs": [],
   "source": [
    "image_path=parent_path+'/result/eda/'\n",
    "if not os.path.exists(image_path):\n",
    "    os.makedirs(image_path)"
   ]
  },
  {
   "cell_type": "markdown",
   "id": "e24c64be",
   "metadata": {},
   "source": [
    "2. Gender analysis"
   ]
  },
  {
   "cell_type": "code",
   "execution_count": 38,
   "id": "fdcdce2a",
   "metadata": {},
   "outputs": [],
   "source": [
    "genderMap=code_map['sex'].copy()\n",
    "genderMap[3]='Information not provided by applicant'"
   ]
  },
  {
   "cell_type": "code",
   "execution_count": 19,
   "id": "cd30f8e7",
   "metadata": {},
   "outputs": [
    {
     "data": {
      "image/png": "[encoded data removed]",
      "text/plain": [
       "<Figure size 432x288 with 1 Axes>"
      ]
     },
     "metadata": {},
     "output_type": "display_data"
    }
   ],
   "source": [
    "Sex_total=skimmed_df['applicant_sex'].value_counts()\n",
    "plt.figure()\n",
    "Sex_total=Sex_total.rename(index=genderMap)\n",
    "Sex_total.plot.pie(legend=False, title='Gender Composition for All Applicants',autopct='%1.1f%%')\n",
    "plt.savefig(image_path+'Total_applicant_gender.png', bbox_inches='tight')"
   ]
  },
  {
   "cell_type": "code",
   "execution_count": 39,
   "id": "807115dc",
   "metadata": {},
   "outputs": [],
   "source": [
    "actionM=code_map['action_taken']"
   ]
  },
  {
   "cell_type": "code",
   "execution_count": 40,
   "id": "c5a28aed",
   "metadata": {},
   "outputs": [
    {
     "data": {
      "text/html": [
       "<div>\n",
       "<style scoped>\n",
       "    .dataframe tbody tr th:only-of-type {\n",
       "        vertical-align: middle;\n",
       "    }\n",
       "\n",
       "    .dataframe tbody tr th {\n",
       "        vertical-align: top;\n",
       "    }\n",
       "\n",
       "    .dataframe thead th {\n",
       "        text-align: right;\n",
       "    }\n",
       "</style>\n",
       "<table border=\"1\" class=\"dataframe\">\n",
       "  <thead>\n",
       "    <tr style=\"text-align: right;\">\n",
       "      <th>action_taken</th>\n",
       "      <th>1</th>\n",
       "      <th>2</th>\n",
       "      <th>3</th>\n",
       "      <th>7</th>\n",
       "      <th>8</th>\n",
       "    </tr>\n",
       "    <tr>\n",
       "      <th>applicant_sex</th>\n",
       "      <th></th>\n",
       "      <th></th>\n",
       "      <th></th>\n",
       "      <th></th>\n",
       "      <th></th>\n",
       "    </tr>\n",
       "  </thead>\n",
       "  <tbody>\n",
       "    <tr>\n",
       "      <th>1</th>\n",
       "      <td>563733</td>\n",
       "      <td>34590</td>\n",
       "      <td>136175</td>\n",
       "      <td>52</td>\n",
       "      <td>41</td>\n",
       "    </tr>\n",
       "    <tr>\n",
       "      <th>2</th>\n",
       "      <td>235187</td>\n",
       "      <td>14930</td>\n",
       "      <td>64496</td>\n",
       "      <td>15</td>\n",
       "      <td>26</td>\n",
       "    </tr>\n",
       "    <tr>\n",
       "      <th>3</th>\n",
       "      <td>64836</td>\n",
       "      <td>3578</td>\n",
       "      <td>24783</td>\n",
       "      <td>13</td>\n",
       "      <td>2</td>\n",
       "    </tr>\n",
       "    <tr>\n",
       "      <th>4</th>\n",
       "      <td>13997</td>\n",
       "      <td>437</td>\n",
       "      <td>804</td>\n",
       "      <td>0</td>\n",
       "      <td>0</td>\n",
       "    </tr>\n",
       "  </tbody>\n",
       "</table>\n",
       "</div>"
      ],
      "text/plain": [
       "action_taken        1      2       3   7   8\n",
       "applicant_sex                               \n",
       "1              563733  34590  136175  52  41\n",
       "2              235187  14930   64496  15  26\n",
       "3               64836   3578   24783  13   2\n",
       "4               13997    437     804   0   0"
      ]
     },
     "execution_count": 40,
     "metadata": {},
     "output_type": "execute_result"
    }
   ],
   "source": [
    "Sex_result=skimmed_df[['applicant_sex','action_taken']]\n",
    "Sex_result.pivot_table(index='applicant_sex', columns='action_taken',aggfunc='size',fill_value=0)"
   ]
  },
  {
   "cell_type": "code",
   "execution_count": 41,
   "id": "30e6dff5",
   "metadata": {},
   "outputs": [
    {
     "data": {
      "text/plain": [
       "{1: 'Loan originated',\n",
       " 2: 'Application approved but not accepted',\n",
       " 3: 'Application denied by financial institution',\n",
       " 4: 'Application withdrawn by applicant',\n",
       " 5: 'File closed for incompleteness',\n",
       " 6: 'Loan purchased by the institution',\n",
       " 7: 'Preapproval request denied by financial institution',\n",
       " 8: 'Preapproval request approved but not accepted'}"
      ]
     },
     "execution_count": 41,
     "metadata": {},
     "output_type": "execute_result"
    }
   ],
   "source": [
    "actionM"
   ]
  },
  {
   "cell_type": "code",
   "execution_count": null,
   "id": "9db67599",
   "metadata": {},
   "outputs": [],
   "source": []
  },
  {
   "cell_type": "code",
   "execution_count": null,
   "id": "bc1e8dc4",
   "metadata": {},
   "outputs": [],
   "source": []
  },
  {
   "cell_type": "code",
   "execution_count": null,
   "id": "e8729f62",
   "metadata": {},
   "outputs": [],
   "source": []
  }
 ],
 "metadata": {
  "kernelspec": {
   "display_name": "Python 3 (ipykernel)",
   "language": "python",
   "name": "python3"
  },
  "language_info": {
   "codemirror_mode": {
    "name": "ipython",
    "version": 3
   },
   "file_extension": ".py",
   "mimetype": "text/x-python",
   "name": "python",
   "nbconvert_exporter": "python",
   "pygments_lexer": "ipython3",
   "version": "3.10.0"
  }
 },
 "nbformat": 4,
 "nbformat_minor": 5
}
