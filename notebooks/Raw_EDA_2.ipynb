{
 "cells": [
  {
   "cell_type": "markdown",
   "id": "d2568c96",
   "metadata": {},
   "source": [
    "# Generate basic applicant compositions"
   ]
  },
  {
   "cell_type": "markdown",
   "id": "3651223c",
   "metadata": {},
   "source": [
    "1. Preparation"
   ]
  },
  {
   "cell_type": "code",
   "execution_count": 1,
   "id": "8dc20fd9",
   "metadata": {},
   "outputs": [],
   "source": [
    "import pandas as pd\n",
    "import os\n",
    "from pathlib import Path\n",
    "import matplotlib.pyplot as plt\n",
    "import json"
   ]
  },
  {
   "cell_type": "code",
   "execution_count": 2,
   "id": "32e6c919",
   "metadata": {},
   "outputs": [],
   "source": [
    "path=Path()\n",
    "parent_path=str(path.parent.absolute())[:-10]"
   ]
  },
  {
   "cell_type": "code",
   "execution_count": 3,
   "id": "1a6aa2f9",
   "metadata": {},
   "outputs": [],
   "source": [
    "removed_csv=parent_path+\"/data/csvs/hmda_2017_ca_noname.csv\""
   ]
  },
  {
   "cell_type": "code",
   "execution_count": 4,
   "id": "f75ddd51",
   "metadata": {},
   "outputs": [],
   "source": [
    "numerics = ['loan_amount_000s', 'applicant_income_000s', 'population', 'minority_population',\n",
    "            'hud_median_family_income', 'tract_to_msamd_income', 'number_of_owner_occupied_units',\n",
    "            'number_of_1_to_4_family_units', 'application_date_indicator', 'rate_spread']\n",
    "dtypes={}\n",
    "for num in numerics:\n",
    "        dtypes[num] = 'float64'"
   ]
  },
  {
   "cell_type": "code",
   "execution_count": 5,
   "id": "e7e7a4ab",
   "metadata": {},
   "outputs": [],
   "source": [
    "skimmed_df=pd.read_csv(removed_csv, low_memory=False, dtype=dtypes, na_values=' ')"
   ]
  },
  {
   "cell_type": "code",
   "execution_count": 6,
   "id": "7afa6f9c",
   "metadata": {},
   "outputs": [],
   "source": [
    "js_road=parent_path+\"/src/data_processing/code_map.json\""
   ]
  },
  {
   "cell_type": "code",
   "execution_count": 43,
   "id": "0be3228c",
   "metadata": {},
   "outputs": [],
   "source": [
    "with open(js_road, 'r') as fh:\n",
    "    code_map=json.load(fh)\n",
    "    for i in code_map.keys():\n",
    "        code_map[i]={int(m):n for m, n in code_map[i].items()}"
   ]
  },
  {
   "cell_type": "code",
   "execution_count": 8,
   "id": "d24e7079",
   "metadata": {},
   "outputs": [
    {
     "data": {
      "text/plain": [
       "Index(['as_of_year', 'respondent_id', 'agency_abbr', 'agency_code',\n",
       "       'loan_type', 'property_type', 'loan_purpose', 'owner_occupancy',\n",
       "       'loan_amount_000s', 'preapproval', 'action_taken', 'msamd',\n",
       "       'state_abbr', 'state_code', 'county_code', 'census_tract_number',\n",
       "       'applicant_ethnicity', 'co_applicant_ethnicity', 'applicant_race_1',\n",
       "       'applicant_race_2', 'applicant_race_3', 'applicant_race_4',\n",
       "       'applicant_race_5', 'co_applicant_race_1', 'co_applicant_race_2',\n",
       "       'co_applicant_race_3', 'co_applicant_race_4', 'co_applicant_race_5',\n",
       "       'applicant_sex', 'co_applicant_sex', 'applicant_income_000s',\n",
       "       'purchaser_type', 'denial_reason_1', 'denial_reason_2',\n",
       "       'denial_reason_3', 'rate_spread', 'hoepa_status', 'lien_status',\n",
       "       'edit_status', 'sequence_number', 'population', 'minority_population',\n",
       "       'hud_median_family_income', 'tract_to_msamd_income',\n",
       "       'number_of_owner_occupied_units', 'number_of_1_to_4_family_units',\n",
       "       'application_date_indicator'],\n",
       "      dtype='object')"
      ]
     },
     "execution_count": 8,
     "metadata": {},
     "output_type": "execute_result"
    }
   ],
   "source": [
    "skimmed_df.columns"
   ]
  },
  {
   "cell_type": "code",
   "execution_count": 13,
   "id": "817e3bb4",
   "metadata": {},
   "outputs": [
    {
     "data": {
      "text/plain": [
       "dict_keys(['agency', 'loan_type', 'property_type', 'loan_purpose', 'owner_occupancy', 'preapproval', 'action_taken', 'ethnicity', 'race', 'sex', 'purchaser_type', 'denial_reason', 'hoepa_status', 'lien_status', 'edit_status', 'county'])"
      ]
     },
     "execution_count": 13,
     "metadata": {},
     "output_type": "execute_result"
    }
   ],
   "source": [
    "code_map.keys()"
   ]
  },
  {
   "cell_type": "code",
   "execution_count": 34,
   "id": "8183db62",
   "metadata": {},
   "outputs": [],
   "source": [
    "image_path=parent_path+'/result/eda/'\n",
    "if not os.path.exists(image_path):\n",
    "    os.makedirs(image_path)"
   ]
  },
  {
   "cell_type": "markdown",
   "id": "e24c64be",
   "metadata": {},
   "source": [
    "2. Gender analysis"
   ]
  },
  {
   "cell_type": "code",
   "execution_count": 45,
   "id": "fdcdce2a",
   "metadata": {},
   "outputs": [],
   "source": [
    "gender_dict=code_map['sex'].copy()\n",
    "gender_dict[3]='Information not provided by applicant'"
   ]
  },
  {
   "cell_type": "code",
   "execution_count": 47,
   "id": "cd30f8e7",
   "metadata": {},
   "outputs": [
    {
     "data": {
      "image/png": "[encoded data removed]",
      "text/plain": [
       "<Figure size 432x288 with 1 Axes>"
      ]
     },
     "metadata": {},
     "output_type": "display_data"
    }
   ],
   "source": [
    "Sex_total=skimmed_df['applicant_sex'].value_counts()\n",
    "plt.figure()\n",
    "Sex_total=Sex_total.rename(index=gender_dict)\n",
    "Sex_totalP=Sex_total.plot.pie(legend=False, title='Gender composition for all applicant',autopct='%1.1f%%')\n",
    "plt.savefig(image_path+'Total_applicant_gender.png', bbox_inches='tight')"
   ]
  },
  {
   "cell_type": "code",
   "execution_count": 48,
   "id": "807115dc",
   "metadata": {},
   "outputs": [
    {
     "data": {
      "text/plain": [
       "'E:\\\\ECE143-HMDA_Mortagage_Analysis_and_Prediction\\\\notebooks'"
      ]
     },
     "execution_count": 48,
     "metadata": {},
     "output_type": "execute_result"
    }
   ],
   "source": [
    "os.getcwd()"
   ]
  },
  {
   "cell_type": "code",
   "execution_count": 50,
   "id": "c5a28aed",
   "metadata": {},
   "outputs": [
    {
     "data": {
      "text/plain": [
       "'E:\\\\ECE143-HMDA_Mortagage_Analysis_and_Prediction\\\\notebooks'"
      ]
     },
     "execution_count": 50,
     "metadata": {},
     "output_type": "execute_result"
    }
   ],
   "source": [
    "str(path.parent.absolute())"
   ]
  },
  {
   "cell_type": "code",
   "execution_count": 52,
   "id": "30e6dff5",
   "metadata": {},
   "outputs": [],
   "source": [
    "allDir=os.getcwd().split('\\\\')"
   ]
  },
  {
   "cell_type": "code",
   "execution_count": 58,
   "id": "9db67599",
   "metadata": {},
   "outputs": [
    {
     "data": {
      "text/plain": [
       "'E:\\\\ECE143-HMDA_Mortagage_Analysis_and_Prediction'"
      ]
     },
     "execution_count": 58,
     "metadata": {},
     "output_type": "execute_result"
    }
   ],
   "source": [
    "for i in range(len(allDir)):\n",
    "    if allDir[i] in ['src', 'notebooks']:\n",
    "        result=os.getcwd()[:-(sum(map(len,allDir[i:]))+1*(len(allDir)-i))]\n",
    "result"
   ]
  },
  {
   "cell_type": "code",
   "execution_count": null,
   "id": "bc1e8dc4",
   "metadata": {},
   "outputs": [],
   "source": []
  },
  {
   "cell_type": "code",
   "execution_count": null,
   "id": "e8729f62",
   "metadata": {},
   "outputs": [],
   "source": []
  }
 ],
 "metadata": {
  "kernelspec": {
   "display_name": "Python 3 (ipykernel)",
   "language": "python",
   "name": "python3"
  },
  "language_info": {
   "codemirror_mode": {
    "name": "ipython",
    "version": 3
   },
   "file_extension": ".py",
   "mimetype": "text/x-python",
   "name": "python",
   "nbconvert_exporter": "python",
   "pygments_lexer": "ipython3",
   "version": "3.10.0"
  }
 },
 "nbformat": 4,
 "nbformat_minor": 5
}
