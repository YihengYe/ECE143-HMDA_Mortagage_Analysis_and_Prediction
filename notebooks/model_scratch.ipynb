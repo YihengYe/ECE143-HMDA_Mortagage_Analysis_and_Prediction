{
 "cells": [
  {
   "cell_type": "code",
   "execution_count": 1,
   "id": "712956ef",
   "metadata": {},
   "outputs": [],
   "source": [
    "import src.data_processing as data"
   ]
  },
  {
   "cell_type": "code",
   "execution_count": 2,
   "id": "c6c150e1",
   "metadata": {},
   "outputs": [],
   "source": [
    "code_map_json = \"./src/data_processing/code_map.json\"\n",
    "code_map = data.code.load_code_map_json(code_map_json)"
   ]
  },
  {
   "cell_type": "code",
   "execution_count": 54,
   "id": "e3f539c4",
   "metadata": {},
   "outputs": [],
   "source": [
    "code_data = \"./data/code-only/hmda_2017_ca_all-records_code_only_no_county.csv\"\n",
    "\n",
    "df = data.numeric.read_raw_csv_numeric(code_data)"
   ]
  },
  {
   "cell_type": "code",
   "execution_count": 7,
   "id": "316a7f9c",
   "metadata": {},
   "outputs": [
    {
     "data": {
      "text/plain": [
       "Index(['as_of_year', 'respondent_id', 'agency_abbr', 'agency_code',\n",
       "       'loan_type', 'property_type', 'loan_purpose', 'owner_occupancy',\n",
       "       'loan_amount_000s', 'preapproval', 'action_taken', 'msamd',\n",
       "       'state_abbr', 'state_code', 'county_name', 'county_code',\n",
       "       'census_tract_number', 'applicant_ethnicity', 'co_applicant_ethnicity',\n",
       "       'applicant_race_1', 'applicant_race_2', 'applicant_race_3',\n",
       "       'applicant_race_4', 'applicant_race_5', 'co_applicant_race_1',\n",
       "       'co_applicant_race_2', 'co_applicant_race_3', 'co_applicant_race_4',\n",
       "       'co_applicant_race_5', 'applicant_sex', 'co_applicant_sex',\n",
       "       'applicant_income_000s', 'purchaser_type', 'denial_reason_1',\n",
       "       'denial_reason_2', 'denial_reason_3', 'rate_spread', 'hoepa_status',\n",
       "       'lien_status', 'edit_status', 'sequence_number', 'population',\n",
       "       'minority_population', 'hud_median_family_income',\n",
       "       'tract_to_msamd_income', 'number_of_owner_occupied_units',\n",
       "       'number_of_1_to_4_family_units', 'application_date_indicator'],\n",
       "      dtype='object')"
      ]
     },
     "execution_count": 7,
     "metadata": {},
     "output_type": "execute_result"
    }
   ],
   "source": [
    "df.columns"
   ]
  },
  {
   "cell_type": "code",
   "execution_count": 55,
   "id": "4cd7724f",
   "metadata": {},
   "outputs": [
    {
     "name": "stdout",
     "output_type": "stream",
     "text": [
      "5    969817\n",
      "6    271228\n",
      "2    212429\n",
      "7    160432\n",
      "3     68421\n",
      "4     16313\n",
      "1     15819\n",
      "Name: applicant_race_1, dtype: Int64\n",
      "5    8954\n",
      "4    1591\n",
      "3    1230\n",
      "2    1046\n",
      "1     411\n",
      "Name: applicant_race_2, dtype: Int64\n",
      "5    547\n",
      "3    230\n",
      "4     82\n",
      "1     37\n",
      "2     24\n",
      "Name: applicant_race_3, dtype: Int64\n",
      "4    173\n",
      "5     60\n",
      "2      9\n",
      "3      6\n",
      "1      2\n",
      "Name: applicant_race_4, dtype: Int64\n",
      "5    167\n",
      "2      6\n",
      "1      5\n",
      "3      2\n",
      "4      1\n",
      "Name: applicant_race_5, dtype: Int64\n"
     ]
    }
   ],
   "source": [
    "for i in range(1,6):\n",
    "    df['applicant_race_'+str(i)] = df['applicant_race_'+str(i)].str[:1]\n",
    "    df['co_applicant_race_'+str(i)] = df['co_applicant_race_'+str(i)].str[:1]\n",
    "    print(df['applicant_race_'+str(i)].value_counts())"
   ]
  },
  {
   "cell_type": "code",
   "execution_count": 56,
   "id": "9edac6f4",
   "metadata": {},
   "outputs": [],
   "source": [
    "df.to_csv(\"./data/code-only/hmda_2017_ca_all-records_code_only_modify_sex.csv\")"
   ]
  },
  {
   "cell_type": "code",
   "execution_count": 8,
   "id": "9977b191",
   "metadata": {},
   "outputs": [
    {
     "data": {
      "text/plain": [
       "1    877753\n",
       "4    241369\n",
       "6    233447\n",
       "3    226258\n",
       "5     81948\n",
       "2     53535\n",
       "7        80\n",
       "8        69\n",
       "Name: action_taken, dtype: Int64"
      ]
     },
     "execution_count": 8,
     "metadata": {},
     "output_type": "execute_result"
    }
   ],
   "source": [
    "df['action_taken'].value_counts()"
   ]
  },
  {
   "cell_type": "code",
   "execution_count": 10,
   "id": "aafa7784",
   "metadata": {},
   "outputs": [
    {
     "data": {
      "text/plain": [
       "3    1506675\n",
       "2     179061\n",
       "1      28723\n",
       "Name: preapproval, dtype: Int64"
      ]
     },
     "execution_count": 10,
     "metadata": {},
     "output_type": "execute_result"
    }
   ],
   "source": [
    "df['preapproval'].value_counts()"
   ]
  },
  {
   "cell_type": "code",
   "execution_count": 11,
   "id": "f9b0ee94",
   "metadata": {},
   "outputs": [
    {
     "data": {
      "text/plain": [
       "5.0    8954\n",
       "4.0    1591\n",
       "3.0    1230\n",
       "2.0    1046\n",
       "1.0     411\n",
       "Name: applicant_race_2, dtype: Int64"
      ]
     },
     "execution_count": 11,
     "metadata": {},
     "output_type": "execute_result"
    }
   ],
   "source": [
    "df['applicant_race_2'].value_counts()"
   ]
  },
  {
   "cell_type": "code",
   "execution_count": 13,
   "id": "084cb015",
   "metadata": {},
   "outputs": [
    {
     "data": {
      "text/plain": [
       "58"
      ]
     },
     "execution_count": 13,
     "metadata": {},
     "output_type": "execute_result"
    }
   ],
   "source": [
    "len(code_map['county'])"
   ]
  },
  {
   "cell_type": "markdown",
   "id": "ece36f08",
   "metadata": {},
   "source": [
    "## Drop unused columns from code-only"
   ]
  },
  {
   "cell_type": "code",
   "execution_count": 57,
   "id": "eb6bc2de",
   "metadata": {},
   "outputs": [],
   "source": [
    "drop_columns = ['respondent_id', 'census_tract_number', 'sequence_number', 'application_date_indicator', # Identity\n",
    "                'as_of_year', 'state_abbr', 'state_code',  # Common Info\n",
    "                'county_name',  # Overlapping feature\n",
    "                'applicant_ethnicity', 'co_applicant_ethnicity', # Overlap with race info\n",
    "                'agency_abbr', 'agency_code', # Abandoned features\n",
    "                'msamd', 'rate_spread', 'hoepa_status',\n",
    "               'lien_status','population',\n",
    "               'minority_population', 'hud_median_family_income',\n",
    "               'tract_to_msamd_income', 'number_of_owner_occupied_units',\n",
    "               'number_of_1_to_4_family_units', # Overlapping geolocational info\n",
    "                 'edit_status', 'purchaser_type'] # Unused info\n",
    "#                'loan_type', 'property_type', 'loan_purpose', 'owner_occupancy',\n",
    "#                'loan_amount_000s', 'preapproval', 'action_taken', \n",
    "#                'county_code',\n",
    "#                'applicant_race_1', 'applicant_race_2', 'applicant_race_3',\n",
    "#                'applicant_race_4', 'applicant_race_5', 'co_applicant_race_1',\n",
    "#                'co_applicant_race_2', 'co_applicant_race_3', 'co_applicant_race_4',\n",
    "#                'co_applicant_race_5', 'applicant_sex', 'co_applicant_sex',\n",
    "#                'applicant_income_000s', , 'denial_reason_1',\n",
    "#                'denial_reason_2', 'denial_reason_3']\n",
    "dropped = df.drop(drop_columns, axis=1)"
   ]
  },
  {
   "cell_type": "code",
   "execution_count": null,
   "id": "12132804",
   "metadata": {},
   "outputs": [],
   "source": []
  },
  {
   "cell_type": "code",
   "execution_count": 58,
   "id": "c1838bf4",
   "metadata": {},
   "outputs": [
    {
     "data": {
      "text/plain": [
       "5    8954\n",
       "4    1591\n",
       "3    1230\n",
       "2    1046\n",
       "1     411\n",
       "Name: applicant_race_2, dtype: Int64"
      ]
     },
     "execution_count": 58,
     "metadata": {},
     "output_type": "execute_result"
    }
   ],
   "source": [
    "df['applicant_race_2'].value_counts()"
   ]
  },
  {
   "cell_type": "code",
   "execution_count": 59,
   "id": "81f4320a",
   "metadata": {},
   "outputs": [],
   "source": [
    "dropped.to_csv('./data/cleaned/hmda_2017_ca_all-records_drop_column.csv')"
   ]
  },
  {
   "cell_type": "code",
   "execution_count": 60,
   "id": "3b43124d",
   "metadata": {},
   "outputs": [
    {
     "data": {
      "text/plain": [
       "5    8954\n",
       "4    1591\n",
       "3    1230\n",
       "2    1046\n",
       "1     411\n",
       "Name: applicant_race_2, dtype: Int64"
      ]
     },
     "execution_count": 60,
     "metadata": {},
     "output_type": "execute_result"
    }
   ],
   "source": [
    "dropped['applicant_race_2'].value_counts()"
   ]
  },
  {
   "cell_type": "code",
   "execution_count": 22,
   "id": "43c11cd6",
   "metadata": {},
   "outputs": [
    {
     "data": {
      "text/plain": [
       "1    996254\n",
       "2    427287\n",
       "4    160050\n",
       "3    130868\n",
       "Name: applicant_sex, dtype: Int64"
      ]
     },
     "execution_count": 22,
     "metadata": {},
     "output_type": "execute_result"
    }
   ],
   "source": [
    "dropped['applicant_sex'].value_counts()"
   ]
  },
  {
   "cell_type": "markdown",
   "id": "8700d839",
   "metadata": {},
   "source": [
    "## Compacted Features"
   ]
  },
  {
   "cell_type": "code",
   "execution_count": 4,
   "id": "258f3d49",
   "metadata": {},
   "outputs": [],
   "source": [
    "dropped = data.numeric.read_raw_csv_numeric('./data/cleaned/hmda_2017_ca_all-records_drop_column.csv')"
   ]
  },
  {
   "cell_type": "code",
   "execution_count": 5,
   "id": "ed0f96bd",
   "metadata": {},
   "outputs": [],
   "source": [
    "dropped['has_co_applicant'] = dropped['co_applicant_sex'] != '5'\n",
    "dropped['approved'] = dropped['action_taken'].isin(['1','2','4','6','8'])\n",
    "for i in range(1,6):\n",
    "    dropped['applicant_race_'+str(i)].fillna('',inplace=True)\n",
    "dropped['applicant_races'] = dropped[['applicant_race_1','applicant_race_2','applicant_race_3',\n",
    "                                'applicant_race_4','applicant_race_5']].agg(''.join, axis=1)"
   ]
  },
  {
   "cell_type": "code",
   "execution_count": 6,
   "id": "49ec47f3",
   "metadata": {},
   "outputs": [
    {
     "data": {
      "text/plain": [
       "5        968697\n",
       "6        271228\n",
       "2        207459\n",
       "7        160432\n",
       "3         66919\n",
       "          ...  \n",
       "241           1\n",
       "15432         1\n",
       "523           1\n",
       "132           1\n",
       "514           1\n",
       "Name: applicant_races, Length: 87, dtype: int64"
      ]
     },
     "execution_count": 6,
     "metadata": {},
     "output_type": "execute_result"
    }
   ],
   "source": [
    "dropped['applicant_races'].value_counts()"
   ]
  },
  {
   "cell_type": "code",
   "execution_count": 7,
   "id": "3ed0ecfd",
   "metadata": {},
   "outputs": [],
   "source": [
    "import pandas as pd"
   ]
  },
  {
   "cell_type": "code",
   "execution_count": 25,
   "id": "1cfd2581",
   "metadata": {},
   "outputs": [
    {
     "data": {
      "text/plain": [
       "Index(['loan_type', 'property_type', 'loan_purpose', 'owner_occupancy',\n",
       "       'loan_amount_000s', 'preapproval', 'action_taken', 'county_code',\n",
       "       'applicant_race_1', 'co_applicant_race_1', 'co_applicant_race_2',\n",
       "       'co_applicant_race_3', 'co_applicant_race_4', 'co_applicant_race_5',\n",
       "       'applicant_sex', 'co_applicant_sex', 'applicant_income_000s',\n",
       "       'denial_reason_1', 'denial_reason_2', 'denial_reason_3',\n",
       "       'has_co_applicant', 'approved', 'applicant_races'],\n",
       "      dtype='object')"
      ]
     },
     "execution_count": 25,
     "metadata": {},
     "output_type": "execute_result"
    }
   ],
   "source": [
    "dropped = dropped.drop('Unnamed: 0', axis=1)\n",
    "dropped.columns"
   ]
  },
  {
   "cell_type": "code",
   "execution_count": 29,
   "id": "a6bece42",
   "metadata": {},
   "outputs": [],
   "source": [
    "dropped['approved'] = dropped['action_taken'].isin(['1','2','4','6','8'])"
   ]
  },
  {
   "cell_type": "code",
   "execution_count": 31,
   "id": "3a89fd39",
   "metadata": {},
   "outputs": [],
   "source": [
    "dropped.to_csv('./data/cleaned/hmda_2017_ca_all-records_agg_sex.csv',index=False)"
   ]
  },
  {
   "cell_type": "code",
   "execution_count": 33,
   "id": "203aadb1",
   "metadata": {},
   "outputs": [
    {
     "data": {
      "text/plain": [
       "loan_type                float64\n",
       "property_type            float64\n",
       "loan_purpose             float64\n",
       "owner_occupancy          float64\n",
       "loan_amount_000s         float64\n",
       "preapproval              float64\n",
       "action_taken             float64\n",
       "county_code              float64\n",
       "applicant_race_1         float64\n",
       "co_applicant_race_1      float64\n",
       "co_applicant_race_2      float64\n",
       "co_applicant_race_3      float64\n",
       "co_applicant_race_4      float64\n",
       "co_applicant_race_5      float64\n",
       "applicant_sex            float64\n",
       "co_applicant_sex         float64\n",
       "applicant_income_000s    float64\n",
       "denial_reason_1          float64\n",
       "denial_reason_2          float64\n",
       "denial_reason_3          float64\n",
       "has_co_applicant            bool\n",
       "approved                    bool\n",
       "applicant_races            int64\n",
       "dtype: object"
      ]
     },
     "execution_count": 33,
     "metadata": {},
     "output_type": "execute_result"
    }
   ],
   "source": [
    "new_dropped = data.numeric.read_raw_csv_numeric('./data/cleaned/hmda_2017_ca_all-records_agg_sex.csv',numeric_code=True)\n",
    "new_dropped.dtypes # Need to fix the applicant_races"
   ]
  },
  {
   "cell_type": "code",
   "execution_count": 164,
   "id": "06942533",
   "metadata": {},
   "outputs": [
    {
     "name": "stdout",
     "output_type": "stream",
     "text": [
      "Index(['loan_amount_000s', 'owner_occupancy', 'loan_purpose', 'applicant_sex',\n",
      "       'applicant_income_000s', 'has_co_applicant', 'applicant_races'],\n",
      "      dtype='object')\n"
     ]
    }
   ],
   "source": [
    "features = [# 'loan_type', 'property_type', 'loan_purpose', 'owner_occupancy',\n",
    "       'loan_amount_000s', 'owner_occupancy','loan_purpose', # 'preapproval', 'action_taken', 'county_code',\n",
    "       # 'applicant_race_1', 'co_applicant_race_1', 'co_applicant_race_2',\n",
    "       # 'co_applicant_race_3', 'co_applicant_race_4', 'co_applicant_race_5', 'co_applicant_sex', \n",
    "       'applicant_sex','applicant_income_000s',\n",
    "       # 'denial_reason_1', 'denial_reason_2', 'denial_reason_3', 'approved',\n",
    "       'has_co_applicant', 'applicant_races']\n",
    "feat_df = dropped[features]\n",
    "print(feat_df.columns)"
   ]
  },
  {
   "cell_type": "code",
   "execution_count": 165,
   "id": "defebb9b",
   "metadata": {},
   "outputs": [
    {
     "data": {
      "text/plain": [
       "0          5\n",
       "1          2\n",
       "2          6\n",
       "3          5\n",
       "4          5\n",
       "          ..\n",
       "1714454    7\n",
       "1714455    7\n",
       "1714456    7\n",
       "1714457    7\n",
       "1714458    7\n",
       "Name: applicant_races, Length: 1714459, dtype: string"
      ]
     },
     "execution_count": 165,
     "metadata": {},
     "output_type": "execute_result"
    }
   ],
   "source": [
    "feat_df.applicant_races.astype('string', copy=False)"
   ]
  },
  {
   "cell_type": "code",
   "execution_count": 166,
   "id": "e0c5cb19",
   "metadata": {},
   "outputs": [],
   "source": [
    "def numeric_feature(s, log=False):\n",
    "    import numpy as np\n",
    "    if log:\n",
    "        s = np.log2(s)\n",
    "    print(s)\n",
    "    return s\n",
    "\n",
    "def multi_enumerate_feature(s):\n",
    "    import collections\n",
    "    data = s.str.split(pat=\"\")\n",
    "    print(s.name)\n",
    "    data = data.apply(collections.Counter)\n",
    "    multi = pd.DataFrame.from_records(data).fillna(value=0)\n",
    "    multi = multi.drop('',axis=1)\n",
    "    multi = multi.rename(columns=dict(zip(multi.columns, [s.name+'_'+x for x in multi.columns])))\n",
    "    return multi\n",
    "\n",
    "def enumerate_feature(s):\n",
    "    return pd.get_dummies(s, prefix=s.name)"
   ]
  },
  {
   "cell_type": "code",
   "execution_count": 167,
   "id": "f5145da7",
   "metadata": {},
   "outputs": [],
   "source": [
    "approved = dropped.approved.astype('int')"
   ]
  },
  {
   "cell_type": "code",
   "execution_count": 168,
   "id": "c41ae8de",
   "metadata": {},
   "outputs": [
    {
     "name": "stdout",
     "output_type": "stream",
     "text": [
      "Numerical feature: loan_amount_000s\n",
      "0           9.154818\n",
      "1           7.531381\n",
      "2          10.075479\n",
      "3           8.703904\n",
      "4           8.566054\n",
      "             ...    \n",
      "1714454     6.906891\n",
      "1714455     6.643856\n",
      "1714456     7.033423\n",
      "1714457     7.169925\n",
      "1714458     9.060696\n",
      "Name: loan_amount_000s, Length: 1714459, dtype: float64\n",
      "(1714459,) float64\n",
      "Enumeration feature: owner_occupancy\n",
      "(1714459, 3) owner_occupancy_1    uint8\n",
      "owner_occupancy_2    uint8\n",
      "owner_occupancy_3    uint8\n",
      "dtype: object\n",
      "Enumeration feature: loan_purpose\n",
      "(1714459, 3) loan_purpose_1    uint8\n",
      "loan_purpose_2    uint8\n",
      "loan_purpose_3    uint8\n",
      "dtype: object\n",
      "Enumeration feature: applicant_sex\n",
      "(1714459, 4) applicant_sex_1    uint8\n",
      "applicant_sex_2    uint8\n",
      "applicant_sex_3    uint8\n",
      "applicant_sex_4    uint8\n",
      "dtype: object\n",
      "Numerical feature: applicant_income_000s\n",
      "0          7.169925\n",
      "1          5.672425\n",
      "2          8.118941\n",
      "3          6.965784\n",
      "4          6.426265\n",
      "             ...   \n",
      "1714454         NaN\n",
      "1714455         NaN\n",
      "1714456         NaN\n",
      "1714457         NaN\n",
      "1714458         NaN\n",
      "Name: applicant_income_000s, Length: 1714459, dtype: float64\n",
      "(1714459,) float64\n",
      "Enumeration feature: has_co_applicant\n",
      "(1714459, 2) has_co_applicant_False    uint8\n",
      "has_co_applicant_True     uint8\n",
      "dtype: object\n",
      "Multi-value enumeration feature: applicant_races\n",
      "applicant_races\n",
      "(1714459, 7) applicant_races_5    float64\n",
      "applicant_races_2    float64\n",
      "applicant_races_6    float64\n",
      "applicant_races_3    float64\n",
      "applicant_races_1    float64\n",
      "applicant_races_7    float64\n",
      "applicant_races_4    float64\n",
      "dtype: object\n",
      "Index(['loan_amount_000s', 'owner_occupancy_1', 'owner_occupancy_2',\n",
      "       'owner_occupancy_3', 'loan_purpose_1', 'loan_purpose_2',\n",
      "       'loan_purpose_3', 'applicant_sex_1', 'applicant_sex_2',\n",
      "       'applicant_sex_3', 'applicant_sex_4', 'applicant_income_000s',\n",
      "       'has_co_applicant_False', 'has_co_applicant_True', 'applicant_races_5',\n",
      "       'applicant_races_2', 'applicant_races_6', 'applicant_races_3',\n",
      "       'applicant_races_1', 'applicant_races_7', 'applicant_races_4',\n",
      "       'approved'],\n",
      "      dtype='object')\n",
      "loan_amount_000s          float64\n",
      "owner_occupancy_1           uint8\n",
      "owner_occupancy_2           uint8\n",
      "owner_occupancy_3           uint8\n",
      "loan_purpose_1              uint8\n",
      "loan_purpose_2              uint8\n",
      "loan_purpose_3              uint8\n",
      "applicant_sex_1             uint8\n",
      "applicant_sex_2             uint8\n",
      "applicant_sex_3             uint8\n",
      "applicant_sex_4             uint8\n",
      "applicant_income_000s     float64\n",
      "has_co_applicant_False      uint8\n",
      "has_co_applicant_True       uint8\n",
      "applicant_races_5         float64\n",
      "applicant_races_2         float64\n",
      "applicant_races_6         float64\n",
      "applicant_races_3         float64\n",
      "applicant_races_1         float64\n",
      "applicant_races_7         float64\n",
      "applicant_races_4         float64\n",
      "approved                    int64\n",
      "dtype: object\n"
     ]
    }
   ],
   "source": [
    "# features = pd.DataFrame(index=feat_df.index)\n",
    "features = []\n",
    "for name in feat_df.columns:\n",
    "    if feat_df[name].dtype == 'float':\n",
    "        print(\"Numerical feature:\", name)\n",
    "        f = numeric_feature(feat_df[name],log=True)\n",
    "        print(f.shape, f.dtypes)\n",
    "        features.append(f)\n",
    "    elif name == 'applicant_races':\n",
    "        print(\"Multi-value enumeration feature:\", name)\n",
    "        f = multi_enumerate_feature(feat_df[name])\n",
    "        print(f.shape, f.dtypes)\n",
    "        features.append(f)\n",
    "    else:\n",
    "        print(\"Enumeration feature:\", name)\n",
    "        f = enumerate_feature(feat_df[name])\n",
    "        print(f.shape, f.dtypes)\n",
    "        features.append(f)\n",
    "features = pd.concat(features + [approved], axis=1)\n",
    "print(features.columns)\n",
    "print(features.dtypes)"
   ]
  },
  {
   "cell_type": "code",
   "execution_count": 169,
   "id": "0aad90ed",
   "metadata": {},
   "outputs": [
    {
     "data": {
      "text/plain": [
       "Index(['loan_amount_000s', 'owner_occupancy_1', 'owner_occupancy_2',\n",
       "       'owner_occupancy_3', 'loan_purpose_1', 'loan_purpose_2',\n",
       "       'loan_purpose_3', 'applicant_sex_1', 'applicant_sex_2',\n",
       "       'applicant_sex_3', 'applicant_sex_4', 'applicant_income_000s',\n",
       "       'has_co_applicant_False', 'has_co_applicant_True', 'applicant_races_5',\n",
       "       'applicant_races_2', 'applicant_races_6', 'applicant_races_3',\n",
       "       'applicant_races_1', 'applicant_races_7', 'applicant_races_4',\n",
       "       'approved'],\n",
       "      dtype='object')"
      ]
     },
     "execution_count": 169,
     "metadata": {},
     "output_type": "execute_result"
    }
   ],
   "source": [
    "features.columns"
   ]
  },
  {
   "cell_type": "code",
   "execution_count": 170,
   "id": "75026530",
   "metadata": {},
   "outputs": [
    {
     "data": {
      "text/plain": [
       "(1714459, 22)"
      ]
     },
     "execution_count": 170,
     "metadata": {},
     "output_type": "execute_result"
    }
   ],
   "source": [
    "features.shape"
   ]
  },
  {
   "cell_type": "code",
   "execution_count": 171,
   "id": "af27addb",
   "metadata": {},
   "outputs": [
    {
     "name": "stdout",
     "output_type": "stream",
     "text": [
      "loan_amount_000s             945\n",
      "owner_occupancy_1              0\n",
      "owner_occupancy_2              0\n",
      "owner_occupancy_3              0\n",
      "loan_purpose_1                 0\n",
      "loan_purpose_2                 0\n",
      "loan_purpose_3                 0\n",
      "applicant_sex_1                0\n",
      "applicant_sex_2                0\n",
      "applicant_sex_3                0\n",
      "applicant_sex_4                0\n",
      "applicant_income_000s     195886\n",
      "has_co_applicant_False         0\n",
      "has_co_applicant_True          0\n",
      "applicant_races_5              0\n",
      "applicant_races_2              0\n",
      "applicant_races_6              0\n",
      "applicant_races_3              0\n",
      "applicant_races_1              0\n",
      "applicant_races_7              0\n",
      "applicant_races_4              0\n",
      "approved                       0\n",
      "dtype: int64\n"
     ]
    }
   ],
   "source": [
    "print(features.isna().sum())\n",
    "features.dropna(inplace=True)"
   ]
  },
  {
   "cell_type": "code",
   "execution_count": 172,
   "id": "4c786e1e",
   "metadata": {},
   "outputs": [],
   "source": [
    "from sklearn.linear_model import LogisticRegression\n",
    "from sklearn.preprocessing import StandardScaler\n",
    "from sklearn.decomposition import PCA\n",
    "from sklearn.model_selection import LeaveOneOut, KFold, train_test_split\n",
    "# pca = PCA(n_components=3)"
   ]
  },
  {
   "cell_type": "markdown",
   "id": "a6a44469",
   "metadata": {},
   "source": [
    "### Drop NaN values"
   ]
  },
  {
   "cell_type": "code",
   "execution_count": null,
   "id": "aee704f3",
   "metadata": {},
   "outputs": [],
   "source": [
    "y = features.approved\n",
    "x = features.drop(['approved'],axis=1)\n",
    "x_std = StandardScaler().fit_transform(x)\n",
    "print(x.shape, y.shape, x_std.shape)"
   ]
  },
  {
   "cell_type": "code",
   "execution_count": 176,
   "id": "cf23196e",
   "metadata": {},
   "outputs": [
    {
     "ename": "NameError",
     "evalue": "name 'pca_2' is not defined",
     "output_type": "error",
     "traceback": [
      "\u001b[0;31m---------------------------------------------------------------------------\u001b[0m",
      "\u001b[0;31mNameError\u001b[0m                                 Traceback (most recent call last)",
      "\u001b[0;32m/tmp/ipykernel_1479/752503276.py\u001b[0m in \u001b[0;36m<module>\u001b[0;34m\u001b[0m\n\u001b[1;32m      1\u001b[0m \u001b[0mpca\u001b[0m \u001b[0;34m=\u001b[0m \u001b[0mPCA\u001b[0m\u001b[0;34m(\u001b[0m\u001b[0mn_components\u001b[0m\u001b[0;34m=\u001b[0m\u001b[0;36m3\u001b[0m\u001b[0;34m)\u001b[0m\u001b[0;34m\u001b[0m\u001b[0;34m\u001b[0m\u001b[0m\n\u001b[1;32m      2\u001b[0m \u001b[0mpca\u001b[0m\u001b[0;34m.\u001b[0m\u001b[0mfit\u001b[0m\u001b[0;34m(\u001b[0m\u001b[0mf_std\u001b[0m\u001b[0;34m)\u001b[0m\u001b[0;34m\u001b[0m\u001b[0;34m\u001b[0m\u001b[0m\n\u001b[0;32m----> 3\u001b[0;31m \u001b[0mdiv\u001b[0m \u001b[0;34m=\u001b[0m \u001b[0mpca_2\u001b[0m\u001b[0;34m.\u001b[0m\u001b[0mtransform\u001b[0m\u001b[0;34m(\u001b[0m\u001b[0mfeatures\u001b[0m\u001b[0;34m)\u001b[0m\u001b[0;34m\u001b[0m\u001b[0;34m\u001b[0m\u001b[0m\n\u001b[0m",
      "\u001b[0;31mNameError\u001b[0m: name 'pca_2' is not defined"
     ]
    }
   ],
   "source": [
    "# pca = PCA(n_components=3)\n",
    "# pca.fit(f_std)\n",
    "# div = pca_2.transform(features)"
   ]
  },
  {
   "cell_type": "code",
   "execution_count": 194,
   "id": "f0262b6e",
   "metadata": {},
   "outputs": [],
   "source": [
    "def train_lr(x, y):\n",
    "    LR = LogisticRegression(random_state=0, solver='lbfgs', multi_class='multinomial')\n",
    "    X_train, X_test, y_train, y_test = train_test_split(x, y, test_size=0.01, random_state=42)\n",
    "\n",
    "    hit_rate = []\n",
    "    print(X_train.shape, X_test.shape, y_train.shape, y_test.shape)\n",
    "    print(sum(y_train)/len(y_train), sum(y_test)/len(y_test))\n",
    "    clf = LR.fit(X_train, y_train)\n",
    "    # clf = LR.fit(f_std,approved)\n",
    "    pred = clf.predict(X_test)\n",
    "    print(pred.shape)\n",
    "    \n",
    "    rate_approved = len([1 for t in y_test if t == 1])/len(y_test)\n",
    "    rate_disapproved = len([1 for t in y_test if t == 0])/len(y_test)\n",
    "    hit_samples = [p for p, q in zip(pred, y_test) if p == q]\n",
    "    hit_rate = len(hit_samples)/len(y_test)\n",
    "    print(rate_approved, rate_disapproved, hit_rate)\n",
    "    print(sum(hit_samples)/len(hit_samples))"
   ]
  },
  {
   "cell_type": "code",
   "execution_count": 185,
   "id": "9ea5d757",
   "metadata": {},
   "outputs": [
    {
     "name": "stdout",
     "output_type": "stream",
     "text": [
      "(1502460, 21) (15177, 21) (1502460,) (15177,)\n",
      "0.80986781678048 0.8082625024708441\n",
      "(15177,)\n",
      "0.8082625024708441 0.19173749752915595 0.8083942808196614\n",
      "0.999266443882957\n"
     ]
    }
   ],
   "source": [
    "# kf = KFold(n_splits=10)\n",
    "train_lr(x_std, y)"
   ]
  },
  {
   "cell_type": "markdown",
   "id": "3895d3f3",
   "metadata": {},
   "source": [
    "Clearly, we see there's nearly no difference between all-approved and the model"
   ]
  },
  {
   "cell_type": "markdown",
   "id": "3c04ecfa",
   "metadata": {},
   "source": [
    "### Data Augmentation"
   ]
  },
  {
   "cell_type": "code",
   "execution_count": 190,
   "id": "5e0b3492",
   "metadata": {},
   "outputs": [],
   "source": [
    "disapproved = features.loc[features.approved == 0]"
   ]
  },
  {
   "cell_type": "code",
   "execution_count": 199,
   "id": "18c6c01c",
   "metadata": {},
   "outputs": [
    {
     "name": "stdout",
     "output_type": "stream",
     "text": [
      "Starting Data Augmentation for the 1-th time\n",
      "(1806213,) (1806213, 21) (1806213, 21)\n",
      "(1788150, 21) (18063, 21) (1788150,) (18063,)\n",
      "0.6804910102620026 0.6776836627359796\n",
      "(18063,)\n",
      "0.6776836627359796 0.32231633726402037 0.685711122183469\n",
      "0.9533344098175359\n",
      "Starting Data Augmentation for the 2-th time\n",
      "(2094789,) (2094789, 21) (2094789, 21)\n",
      "(2073841, 21) (20948, 21) (2073841,) (20948,)\n",
      "0.5867166287097226 0.5873591751002483\n",
      "(20948,)\n",
      "0.5873591751002483 0.4126408248997518 0.6181497040290242\n",
      "0.741910572244961\n"
     ]
    }
   ],
   "source": [
    "import copy\n",
    "aug = copy.deepcopy(features)\n",
    "for i in range(1,4):\n",
    "    print(\"Starting Data Augmentation for the {0}-th time\".format(i))\n",
    "    aug = pd.concat([aug, disapproved], axis=0)\n",
    "    aug_y = aug.approved\n",
    "    aug_x = aug.drop(['approved'],axis=1)\n",
    "    aug_x_std = StandardScaler().fit_transform(aug_x)\n",
    "    print(aug_y.shape, aug_x.shape, aug_x_std.shape)\n",
    "    train_lr(aug_x_std, aug_y)"
   ]
  },
  {
   "cell_type": "code",
   "execution_count": 201,
   "id": "49fa3c0a",
   "metadata": {},
   "outputs": [
    {
     "name": "stdout",
     "output_type": "stream",
     "text": [
      "Starting Data Augmentation for the 4-th time\n",
      "(2383365,) (2383365, 21) (2383365, 21)\n",
      "(2359531, 21) (23834, 21) (2359531,) (23834,)\n",
      "0.5156651893956893 0.5174540572291684\n",
      "(23834,)\n",
      "0.5174540572291684 0.48254594277083157 0.605269782663422\n",
      "0.4896021073062526\n"
     ]
    }
   ],
   "source": [
    "print(\"Starting Data Augmentation for the 3-th time\")\n",
    "aug = pd.concat([aug, disapproved], axis=0)\n",
    "aug_y = aug.approved\n",
    "aug_x = aug.drop(['approved'],axis=1)\n",
    "aug_x_std = StandardScaler().fit_transform(aug_x)\n",
    "print(aug_y.shape, aug_x.shape, aug_x_std.shape)\n",
    "train_lr(aug_x_std, aug_y)"
   ]
  },
  {
   "cell_type": "code",
   "execution_count": null,
   "id": "68a5f5f1",
   "metadata": {},
   "outputs": [],
   "source": []
  }
 ],
 "metadata": {
  "kernelspec": {
   "display_name": "Python 3 (ipykernel)",
   "language": "python",
   "name": "python3"
  },
  "language_info": {
   "codemirror_mode": {
    "name": "ipython",
    "version": 3
   },
   "file_extension": ".py",
   "mimetype": "text/x-python",
   "name": "python",
   "nbconvert_exporter": "python",
   "pygments_lexer": "ipython3",
   "version": "3.8.10"
  }
 },
 "nbformat": 4,
 "nbformat_minor": 5
}
