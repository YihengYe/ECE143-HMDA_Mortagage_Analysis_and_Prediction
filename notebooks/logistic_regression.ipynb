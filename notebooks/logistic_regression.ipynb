{
 "cells": [
  {
   "cell_type": "code",
   "execution_count": 1,
   "id": "712956ef",
   "metadata": {
    "scrolled": false
   },
   "outputs": [],
   "source": [
    "import sys\n",
    "sys.path.append(\"..\")\n",
    "\n",
    "import numpy as np\n",
    "import pandas as pd\n",
    "\n",
    "import src.data_processing as data\n",
    "import src.models as models"
   ]
  },
  {
   "cell_type": "code",
   "execution_count": 2,
   "id": "203aadb1",
   "metadata": {
    "scrolled": true
   },
   "outputs": [
    {
     "data": {
      "text/plain": [
       "loan_type                float64\n",
       "property_type            float64\n",
       "loan_purpose             float64\n",
       "owner_occupancy          float64\n",
       "loan_amount_000s         float64\n",
       "preapproval              float64\n",
       "action_taken             float64\n",
       "county_code              float64\n",
       "applicant_race_1         float64\n",
       "co_applicant_race_1      float64\n",
       "co_applicant_race_2      float64\n",
       "co_applicant_race_3      float64\n",
       "co_applicant_race_4      float64\n",
       "co_applicant_race_5      float64\n",
       "applicant_sex            float64\n",
       "co_applicant_sex         float64\n",
       "applicant_income_000s    float64\n",
       "denial_reason_1          float64\n",
       "denial_reason_2          float64\n",
       "denial_reason_3          float64\n",
       "has_co_applicant            bool\n",
       "approved                    bool\n",
       "applicant_races            int64\n",
       "dtype: object"
      ]
     },
     "execution_count": 2,
     "metadata": {},
     "output_type": "execute_result"
    }
   ],
   "source": [
    "dropped = data.numeric.read_raw_csv_numeric('../data/cleaned/hmda_2017_ca_all-records_agg_sex.csv',numeric_code=True)\n",
    "dropped.dtypes # Need to fix the applicant_races"
   ]
  },
  {
   "cell_type": "markdown",
   "id": "971a55ab",
   "metadata": {},
   "source": [
    "## Preprocessing: Choosing features & data cleaning"
   ]
  },
  {
   "cell_type": "code",
   "execution_count": 3,
   "id": "06942533",
   "metadata": {},
   "outputs": [
    {
     "name": "stdout",
     "output_type": "stream",
     "text": [
      "loan_type                float64\n",
      "property_type            float64\n",
      "loan_purpose             float64\n",
      "owner_occupancy          float64\n",
      "loan_amount_000s         float64\n",
      "preapproval              float64\n",
      "action_taken             float64\n",
      "county_code              float64\n",
      "applicant_race_1         float64\n",
      "co_applicant_race_1      float64\n",
      "co_applicant_race_2      float64\n",
      "co_applicant_race_3      float64\n",
      "co_applicant_race_4      float64\n",
      "co_applicant_race_5      float64\n",
      "applicant_sex            float64\n",
      "co_applicant_sex         float64\n",
      "applicant_income_000s    float64\n",
      "denial_reason_1          float64\n",
      "denial_reason_2          float64\n",
      "denial_reason_3          float64\n",
      "has_co_applicant            bool\n",
      "approved                    bool\n",
      "applicant_races           string\n",
      "dtype: object\n"
     ]
    }
   ],
   "source": [
    "feature_cols = [# 'loan_type', 'property_type', 'loan_purpose', 'owner_occupancy',\n",
    "       'loan_amount_000s', 'owner_occupancy','loan_purpose', # 'preapproval', 'action_taken', 'county_code',\n",
    "       # 'applicant_race_1', 'co_applicant_race_1', 'co_applicant_race_2',\n",
    "       # 'co_applicant_race_3', 'co_applicant_race_4', 'co_applicant_race_5', 'co_applicant_sex', \n",
    "       'applicant_sex','applicant_income_000s',\n",
    "       # 'denial_reason_1', 'denial_reason_2', 'denial_reason_3', 'approved',\n",
    "       'has_co_applicant', 'applicant_races']\n",
    "dropped['applicant_races'] = dropped['applicant_races'].astype('string', copy=False)\n",
    "approved = dropped.approved.astype('int')\n",
    "print(dropped.dtypes)"
   ]
  },
  {
   "cell_type": "markdown",
   "id": "ecf0e2ee",
   "metadata": {},
   "source": [
    "### Encode enumeration data & normalize numeric data"
   ]
  },
  {
   "cell_type": "code",
   "execution_count": 4,
   "id": "44fc6b3a",
   "metadata": {},
   "outputs": [
    {
     "name": "stdout",
     "output_type": "stream",
     "text": [
      "Numerical feature: loan_amount_000s\n",
      "(1714459,) float64\n",
      "Numerical feature: owner_occupancy\n",
      "(1714459,) float64\n",
      "Numerical feature: loan_purpose\n",
      "(1714459,) float64\n",
      "Numerical feature: applicant_sex\n",
      "(1714459,) float64\n",
      "Numerical feature: applicant_income_000s\n",
      "(1714459,) float64\n",
      "Enumeration feature: has_co_applicant\n",
      "(1714459, 2) has_co_applicant_False    uint8\n",
      "has_co_applicant_True     uint8\n",
      "dtype: object\n",
      "Multi-value enumeration feature: applicant_races\n",
      "(1714459, 7) applicant_races_5    float64\n",
      "applicant_races_2    float64\n",
      "applicant_races_6    float64\n",
      "applicant_races_3    float64\n",
      "applicant_races_1    float64\n",
      "applicant_races_7    float64\n",
      "applicant_races_4    float64\n",
      "dtype: object\n",
      "Index(['loan_amount_000s', 'owner_occupancy', 'loan_purpose', 'applicant_sex',\n",
      "       'applicant_income_000s', 'has_co_applicant_False',\n",
      "       'has_co_applicant_True', 'applicant_races_5', 'applicant_races_2',\n",
      "       'applicant_races_6', 'applicant_races_3', 'applicant_races_1',\n",
      "       'applicant_races_7', 'applicant_races_4', 'approved'],\n",
      "      dtype='object')\n",
      "loan_amount_000s          float64\n",
      "owner_occupancy           float64\n",
      "loan_purpose              float64\n",
      "applicant_sex             float64\n",
      "applicant_income_000s     float64\n",
      "has_co_applicant_False      uint8\n",
      "has_co_applicant_True       uint8\n",
      "applicant_races_5         float64\n",
      "applicant_races_2         float64\n",
      "applicant_races_6         float64\n",
      "applicant_races_3         float64\n",
      "applicant_races_1         float64\n",
      "applicant_races_7         float64\n",
      "applicant_races_4         float64\n",
      "approved                    int64\n",
      "dtype: object\n"
     ]
    }
   ],
   "source": [
    "# features = pd.DataFrame(index=feat_df.index)\n",
    "features = []\n",
    "for name in feature_cols:\n",
    "    if dropped[name].dtype == 'float':\n",
    "        print(\"Numerical feature:\", name)\n",
    "        f = models.feature.numeric_feature(dropped[name],log=True)\n",
    "        print(f.shape, f.dtypes)\n",
    "        features.append(f)\n",
    "    elif name == 'applicant_races':\n",
    "        print(\"Multi-value enumeration feature:\", name)\n",
    "        f = models.feature.multi_enumerate_feature(dropped[name])\n",
    "        print(f.shape, f.dtypes)\n",
    "        features.append(f)\n",
    "    else:\n",
    "        print(\"Enumeration feature:\", name)\n",
    "        f = models.feature.enumerate_feature(dropped[name])\n",
    "        print(f.shape, f.dtypes)\n",
    "        features.append(f)\n",
    "features = pd.concat(features + [approved], axis=1)\n",
    "print(features.columns)\n",
    "print(features.dtypes)"
   ]
  },
  {
   "cell_type": "markdown",
   "id": "8a633fac",
   "metadata": {},
   "source": [
    "### Drop NaN values for training"
   ]
  },
  {
   "cell_type": "code",
   "execution_count": 5,
   "id": "af27addb",
   "metadata": {},
   "outputs": [
    {
     "name": "stdout",
     "output_type": "stream",
     "text": [
      "loan_amount_000s             945\n",
      "owner_occupancy                0\n",
      "loan_purpose                   0\n",
      "applicant_sex                  0\n",
      "applicant_income_000s     195886\n",
      "has_co_applicant_False         0\n",
      "has_co_applicant_True          0\n",
      "applicant_races_5              0\n",
      "applicant_races_2              0\n",
      "applicant_races_6              0\n",
      "applicant_races_3              0\n",
      "applicant_races_1              0\n",
      "applicant_races_7              0\n",
      "applicant_races_4              0\n",
      "approved                       0\n",
      "dtype: int64\n"
     ]
    }
   ],
   "source": [
    "print(features.isna().sum())\n",
    "features.dropna(inplace=True)"
   ]
  },
  {
   "cell_type": "markdown",
   "id": "a6a44469",
   "metadata": {},
   "source": [
    "## Training, A simple Logistic Regression model"
   ]
  },
  {
   "cell_type": "code",
   "execution_count": 6,
   "id": "aee704f3",
   "metadata": {},
   "outputs": [
    {
     "name": "stdout",
     "output_type": "stream",
     "text": [
      "(1517637, 14) (1517637,) (1517637, 14)\n"
     ]
    }
   ],
   "source": [
    "y = features.approved\n",
    "x = features.drop(['approved'],axis=1)\n",
    "x_std = models.regression_model.regularization(x)\n",
    "print(x.shape, y.shape, x_std.shape)"
   ]
  },
  {
   "cell_type": "code",
   "execution_count": 7,
   "id": "9ea5d757",
   "metadata": {},
   "outputs": [
    {
     "name": "stdout",
     "output_type": "stream",
     "text": [
      "Show train-test split sizes -- train: (1502460, 14) (1502460,) test: (15177, 14) (15177,)\n",
      "Approved cases ratio -- train: 0.80986781678048 test: 0.8082625024708441\n",
      "Positive data proportion: 0.8082625024708441 ,Positive data in correct prediction: 0.999673921904296\n",
      "Accuracy = tp+tn/all 0.8082625024708441\n",
      "Precision = tp/tp+fp = 0.999673921904296\n",
      "Recall = tp/tp+fn = 0.999673921904296\n"
     ]
    }
   ],
   "source": [
    "# kf = KFold(n_splits=10)\n",
    "from sklearn.model_selection import train_test_split\n",
    "X_train, X_test, y_train, y_test = train_test_split(x_std, y, test_size=0.01, random_state=42)\n",
    "res = models.regression_model.train_lr(X_train, X_test, y_train, y_test)"
   ]
  },
  {
   "cell_type": "code",
   "execution_count": 8,
   "id": "370bc85e",
   "metadata": {},
   "outputs": [
    {
     "data": {
      "text/plain": [
       "{'precision': 0.999673921904296,\n",
       " 'recall': 0.999673921904296,\n",
       " 'accuracy': 0.8082625024708441,\n",
       " 'ratio': 0.80986781678048}"
      ]
     },
     "execution_count": 8,
     "metadata": {},
     "output_type": "execute_result"
    }
   ],
   "source": [
    "res"
   ]
  },
  {
   "cell_type": "markdown",
   "id": "3895d3f3",
   "metadata": {},
   "source": [
    "Assume we predict all instances as positve.\n",
    "Clearly, then we see there's nearly no difference between this all-approved prediction and the model"
   ]
  },
  {
   "cell_type": "markdown",
   "id": "3c04ecfa",
   "metadata": {},
   "source": [
    "## Data Augmentation"
   ]
  },
  {
   "cell_type": "code",
   "execution_count": 9,
   "id": "5e0b3492",
   "metadata": {},
   "outputs": [],
   "source": [
    "disapproved = features.loc[features.approved == 0]\n",
    "from sklearn.model_selection import train_test_split\n",
    "_, X_test, _, y_test = train_test_split(x, y, test_size=0.01, random_state=4)"
   ]
  },
  {
   "cell_type": "code",
   "execution_count": 10,
   "id": "27c9425d",
   "metadata": {},
   "outputs": [
    {
     "name": "stdout",
     "output_type": "stream",
     "text": [
      "(15177, 14) (15177,)\n",
      "Positive data proportion: 0.8072741648547144\n"
     ]
    }
   ],
   "source": [
    "print(X_test.shape, y_test.shape)\n",
    "print(\"Positive data proportion:\", sum(y_test) / len(y_test))"
   ]
  },
  {
   "cell_type": "code",
   "execution_count": 11,
   "id": "18c6c01c",
   "metadata": {
    "scrolled": false
   },
   "outputs": [
    {
     "name": "stdout",
     "output_type": "stream",
     "text": [
      "\n",
      "Starting Data Augmentation for the 1-th time\n",
      "Show train-test split sizes -- train: (1788150, 14) (1788150,) test: (18063, 14) (18063,)\n",
      "Approved cases ratio -- train: 0.6804910102620026 test: 0.6776836627359796\n",
      "Positive data proportion: 0.6776836627359796 ,Positive data in correct prediction: 0.9586850649350649\n",
      "Accuracy = tp+tn/all 0.682057244090129\n",
      "Precision = tp/tp+fp = 0.9586850649350649\n",
      "Recall = tp/tp+fn = 0.9648721509680581\n",
      "\n",
      "Starting Data Augmentation for the 2-th time\n",
      "Show train-test split sizes -- train: (2073841, 14) (2073841,) test: (20948, 14) (20948,)\n",
      "Approved cases ratio -- train: 0.5867166287097226 test: 0.5873591751002483\n",
      "Positive data proportion: 0.5873591751002483 ,Positive data in correct prediction: 0.7484061576737677\n",
      "Accuracy = tp+tn/all 0.613996562917701\n",
      "Precision = tp/tp+fp = 0.7484061576737677\n",
      "Recall = tp/tp+fn = 0.7823472041612484\n",
      "\n",
      "Starting Data Augmentation for the 3-th time\n",
      "Show train-test split sizes -- train: (2359531, 14) (2359531,) test: (23834, 14) (23834,)\n",
      "Approved cases ratio -- train: 0.5156651893956893 test: 0.5174540572291684\n",
      "Positive data proportion: 0.5174540572291684 ,Positive data in correct prediction: 0.493807514010932\n",
      "Accuracy = tp+tn/all 0.6064026181085844\n",
      "Precision = tp/tp+fp = 0.493807514010932\n",
      "Recall = tp/tp+fn = 0.578691315981513\n"
     ]
    }
   ],
   "source": [
    "import copy\n",
    "\n",
    "res = [res]\n",
    "\n",
    "aug = copy.deepcopy(features)\n",
    "for i in range(1,4):\n",
    "    print(\"\\nStarting Data Augmentation for the {0}-th time\".format(i))\n",
    "    aug = pd.concat([aug, disapproved], axis=0)\n",
    "    aug_y = aug.approved\n",
    "    aug_x = aug.drop(['approved'],axis=1)\n",
    "    aug_x_std = models.regression_model.regularization(aug_x)\n",
    "    X_train, X_test, y_train, y_test = train_test_split(aug_x_std, aug_y, test_size=0.01, random_state=42)\n",
    "    aug_res = models.regression_model.train_lr(X_train, X_test, y_train, y_test)#, add_test_x=X_test, add_test_y=y_test)\n",
    "    res.append(aug_res)"
   ]
  },
  {
   "cell_type": "code",
   "execution_count": 13,
   "id": "68a5f5f1",
   "metadata": {},
   "outputs": [
    {
     "data": {
      "image/png": "[encoded data removed]",
      "text/plain": [
       "<Figure size 432x288 with 2 Axes>"
      ]
     },
     "metadata": {
      "needs_background": "light"
     },
     "output_type": "display_data"
    }
   ],
   "source": [
    "from matplotlib import pyplot as plt\n",
    "from matplotlib.ticker import MaxNLocator\n",
    "\n",
    "alpha = 0.7\n",
    "\n",
    "fig,ax = plt.subplots()\n",
    "# make a plot\n",
    "ax.plot(range(len([x['accuracy'] for x in res])), [x['accuracy'] for x in res], color=\"orange\", marker=\"o\", lw=3, alpha=alpha, label='accuracy')\n",
    "ax.bar(range(len([x['ratio'] for x in res])), [x['ratio'] for x in res], width=0.5, alpha=alpha)\n",
    "# set x-axis label\n",
    "ax.set_xlim([-0.5,3.5])\n",
    "ax.set_xlabel(\"augment times\",fontsize=14)\n",
    "# ax.set_xlim\n",
    "ax.set_xticks(np.arange(0, len([x['ratio'] for x in res]), 1))\n",
    "# set y-axis label\n",
    "ax.set_ylim([0.4,0.9])\n",
    "ax.set_ylabel(\"ratio\",fontsize=14)\n",
    "\n",
    "ax2=ax.twinx()\n",
    "ax2.set_ylim([0,0.12])\n",
    "ax2.set_ylabel(\"delta\",fontsize=14)\n",
    "ax2.plot(range(len([x['accuracy'] for x in res])), [x['accuracy'] - x['ratio'] for x in res], color=\"limegreen\", marker=\"o\", lw=3, alpha=alpha, label='accuracy_diff')\n",
    "\n",
    "ax.legend(loc='upper left')\n",
    "ax2.legend(loc='best')\n",
    "fig.savefig('../result/prediction/data_augment.png')\n",
    "fig.show()\n"
   ]
  },
  {
   "cell_type": "code",
   "execution_count": null,
   "id": "025fc20c",
   "metadata": {
    "pycharm": {
     "name": "#%%\n"
    }
   },
   "outputs": [],
   "source": []
  }
 ],
 "metadata": {
  "kernelspec": {
   "display_name": "Python 3 (ipykernel)",
   "language": "python",
   "name": "python3"
  },
  "language_info": {
   "codemirror_mode": {
    "name": "ipython",
    "version": 3
   },
   "file_extension": ".py",
   "mimetype": "text/x-python",
   "name": "python",
   "nbconvert_exporter": "python",
   "pygments_lexer": "ipython3",
   "version": "3.8.10"
  }
 },
 "nbformat": 4,
 "nbformat_minor": 5
}